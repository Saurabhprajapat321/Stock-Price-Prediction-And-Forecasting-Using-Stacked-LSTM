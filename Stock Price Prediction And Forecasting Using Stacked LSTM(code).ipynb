{
 "cells": [
  {
   "cell_type": "markdown",
   "id": "5a78ae05",
   "metadata": {},
   "source": [
    "## Stock Price Prediction And Forecasting Using Stacked LSTM\n",
    "A Machine Learning Model for Stock Market Prediction. Stock market prediction is the act of trying to determine the future value of a company stock or other financial instrument traded on a financial exchange\n",
    "\n",
    "Here i had taken the APPLE stock data for analysis\n"
   ]
  },
  {
   "cell_type": "code",
   "execution_count": 1,
   "id": "11b53e7d",
   "metadata": {},
   "outputs": [],
   "source": [
    "#import libraries\n",
    "import pandas as pd\n",
    "df=pd.read_csv('AAPL.csv')"
   ]
  },
  {
   "cell_type": "code",
   "execution_count": 2,
   "id": "b4d1f3b1",
   "metadata": {},
   "outputs": [
    {
     "data": {
      "text/html": [
       "<div>\n",
       "<style scoped>\n",
       "    .dataframe tbody tr th:only-of-type {\n",
       "        vertical-align: middle;\n",
       "    }\n",
       "\n",
       "    .dataframe tbody tr th {\n",
       "        vertical-align: top;\n",
       "    }\n",
       "\n",
       "    .dataframe thead th {\n",
       "        text-align: right;\n",
       "    }\n",
       "</style>\n",
       "<table border=\"1\" class=\"dataframe\">\n",
       "  <thead>\n",
       "    <tr style=\"text-align: right;\">\n",
       "      <th></th>\n",
       "      <th>Unnamed: 0</th>\n",
       "      <th>symbol</th>\n",
       "      <th>date</th>\n",
       "      <th>close</th>\n",
       "      <th>high</th>\n",
       "      <th>low</th>\n",
       "      <th>open</th>\n",
       "      <th>volume</th>\n",
       "      <th>adjClose</th>\n",
       "      <th>adjHigh</th>\n",
       "      <th>adjLow</th>\n",
       "      <th>adjOpen</th>\n",
       "      <th>adjVolume</th>\n",
       "      <th>divCash</th>\n",
       "      <th>splitFactor</th>\n",
       "    </tr>\n",
       "  </thead>\n",
       "  <tbody>\n",
       "    <tr>\n",
       "      <th>0</th>\n",
       "      <td>0</td>\n",
       "      <td>AAPL</td>\n",
       "      <td>2015-05-27 00:00:00+00:00</td>\n",
       "      <td>132.045</td>\n",
       "      <td>132.260</td>\n",
       "      <td>130.05</td>\n",
       "      <td>130.34</td>\n",
       "      <td>45833246</td>\n",
       "      <td>121.682558</td>\n",
       "      <td>121.880685</td>\n",
       "      <td>119.844118</td>\n",
       "      <td>120.111360</td>\n",
       "      <td>45833246</td>\n",
       "      <td>0.0</td>\n",
       "      <td>1.0</td>\n",
       "    </tr>\n",
       "    <tr>\n",
       "      <th>1</th>\n",
       "      <td>1</td>\n",
       "      <td>AAPL</td>\n",
       "      <td>2015-05-28 00:00:00+00:00</td>\n",
       "      <td>131.780</td>\n",
       "      <td>131.950</td>\n",
       "      <td>131.10</td>\n",
       "      <td>131.86</td>\n",
       "      <td>30733309</td>\n",
       "      <td>121.438354</td>\n",
       "      <td>121.595013</td>\n",
       "      <td>120.811718</td>\n",
       "      <td>121.512076</td>\n",
       "      <td>30733309</td>\n",
       "      <td>0.0</td>\n",
       "      <td>1.0</td>\n",
       "    </tr>\n",
       "    <tr>\n",
       "      <th>2</th>\n",
       "      <td>2</td>\n",
       "      <td>AAPL</td>\n",
       "      <td>2015-05-29 00:00:00+00:00</td>\n",
       "      <td>130.280</td>\n",
       "      <td>131.450</td>\n",
       "      <td>129.90</td>\n",
       "      <td>131.23</td>\n",
       "      <td>50884452</td>\n",
       "      <td>120.056069</td>\n",
       "      <td>121.134251</td>\n",
       "      <td>119.705890</td>\n",
       "      <td>120.931516</td>\n",
       "      <td>50884452</td>\n",
       "      <td>0.0</td>\n",
       "      <td>1.0</td>\n",
       "    </tr>\n",
       "    <tr>\n",
       "      <th>3</th>\n",
       "      <td>3</td>\n",
       "      <td>AAPL</td>\n",
       "      <td>2015-06-01 00:00:00+00:00</td>\n",
       "      <td>130.535</td>\n",
       "      <td>131.390</td>\n",
       "      <td>130.05</td>\n",
       "      <td>131.20</td>\n",
       "      <td>32112797</td>\n",
       "      <td>120.291057</td>\n",
       "      <td>121.078960</td>\n",
       "      <td>119.844118</td>\n",
       "      <td>120.903870</td>\n",
       "      <td>32112797</td>\n",
       "      <td>0.0</td>\n",
       "      <td>1.0</td>\n",
       "    </tr>\n",
       "    <tr>\n",
       "      <th>4</th>\n",
       "      <td>4</td>\n",
       "      <td>AAPL</td>\n",
       "      <td>2015-06-02 00:00:00+00:00</td>\n",
       "      <td>129.960</td>\n",
       "      <td>130.655</td>\n",
       "      <td>129.32</td>\n",
       "      <td>129.86</td>\n",
       "      <td>33667627</td>\n",
       "      <td>119.761181</td>\n",
       "      <td>120.401640</td>\n",
       "      <td>119.171406</td>\n",
       "      <td>119.669029</td>\n",
       "      <td>33667627</td>\n",
       "      <td>0.0</td>\n",
       "      <td>1.0</td>\n",
       "    </tr>\n",
       "  </tbody>\n",
       "</table>\n",
       "</div>"
      ],
      "text/plain": [
       "   Unnamed: 0 symbol                       date    close     high     low  \\\n",
       "0           0   AAPL  2015-05-27 00:00:00+00:00  132.045  132.260  130.05   \n",
       "1           1   AAPL  2015-05-28 00:00:00+00:00  131.780  131.950  131.10   \n",
       "2           2   AAPL  2015-05-29 00:00:00+00:00  130.280  131.450  129.90   \n",
       "3           3   AAPL  2015-06-01 00:00:00+00:00  130.535  131.390  130.05   \n",
       "4           4   AAPL  2015-06-02 00:00:00+00:00  129.960  130.655  129.32   \n",
       "\n",
       "     open    volume    adjClose     adjHigh      adjLow     adjOpen  \\\n",
       "0  130.34  45833246  121.682558  121.880685  119.844118  120.111360   \n",
       "1  131.86  30733309  121.438354  121.595013  120.811718  121.512076   \n",
       "2  131.23  50884452  120.056069  121.134251  119.705890  120.931516   \n",
       "3  131.20  32112797  120.291057  121.078960  119.844118  120.903870   \n",
       "4  129.86  33667627  119.761181  120.401640  119.171406  119.669029   \n",
       "\n",
       "   adjVolume  divCash  splitFactor  \n",
       "0   45833246      0.0          1.0  \n",
       "1   30733309      0.0          1.0  \n",
       "2   50884452      0.0          1.0  \n",
       "3   32112797      0.0          1.0  \n",
       "4   33667627      0.0          1.0  "
      ]
     },
     "execution_count": 2,
     "metadata": {},
     "output_type": "execute_result"
    }
   ],
   "source": [
    "df.head()"
   ]
  },
  {
   "cell_type": "code",
   "execution_count": 3,
   "id": "f5bc730e",
   "metadata": {},
   "outputs": [
    {
     "data": {
      "text/html": [
       "<div>\n",
       "<style scoped>\n",
       "    .dataframe tbody tr th:only-of-type {\n",
       "        vertical-align: middle;\n",
       "    }\n",
       "\n",
       "    .dataframe tbody tr th {\n",
       "        vertical-align: top;\n",
       "    }\n",
       "\n",
       "    .dataframe thead th {\n",
       "        text-align: right;\n",
       "    }\n",
       "</style>\n",
       "<table border=\"1\" class=\"dataframe\">\n",
       "  <thead>\n",
       "    <tr style=\"text-align: right;\">\n",
       "      <th></th>\n",
       "      <th>Unnamed: 0</th>\n",
       "      <th>symbol</th>\n",
       "      <th>date</th>\n",
       "      <th>close</th>\n",
       "      <th>high</th>\n",
       "      <th>low</th>\n",
       "      <th>open</th>\n",
       "      <th>volume</th>\n",
       "      <th>adjClose</th>\n",
       "      <th>adjHigh</th>\n",
       "      <th>adjLow</th>\n",
       "      <th>adjOpen</th>\n",
       "      <th>adjVolume</th>\n",
       "      <th>divCash</th>\n",
       "      <th>splitFactor</th>\n",
       "    </tr>\n",
       "  </thead>\n",
       "  <tbody>\n",
       "    <tr>\n",
       "      <th>1253</th>\n",
       "      <td>1253</td>\n",
       "      <td>AAPL</td>\n",
       "      <td>2020-05-18 00:00:00+00:00</td>\n",
       "      <td>314.96</td>\n",
       "      <td>316.50</td>\n",
       "      <td>310.3241</td>\n",
       "      <td>313.17</td>\n",
       "      <td>33843125</td>\n",
       "      <td>314.96</td>\n",
       "      <td>316.50</td>\n",
       "      <td>310.3241</td>\n",
       "      <td>313.17</td>\n",
       "      <td>33843125</td>\n",
       "      <td>0.0</td>\n",
       "      <td>1.0</td>\n",
       "    </tr>\n",
       "    <tr>\n",
       "      <th>1254</th>\n",
       "      <td>1254</td>\n",
       "      <td>AAPL</td>\n",
       "      <td>2020-05-19 00:00:00+00:00</td>\n",
       "      <td>313.14</td>\n",
       "      <td>318.52</td>\n",
       "      <td>313.0100</td>\n",
       "      <td>315.03</td>\n",
       "      <td>25432385</td>\n",
       "      <td>313.14</td>\n",
       "      <td>318.52</td>\n",
       "      <td>313.0100</td>\n",
       "      <td>315.03</td>\n",
       "      <td>25432385</td>\n",
       "      <td>0.0</td>\n",
       "      <td>1.0</td>\n",
       "    </tr>\n",
       "    <tr>\n",
       "      <th>1255</th>\n",
       "      <td>1255</td>\n",
       "      <td>AAPL</td>\n",
       "      <td>2020-05-20 00:00:00+00:00</td>\n",
       "      <td>319.23</td>\n",
       "      <td>319.52</td>\n",
       "      <td>316.2000</td>\n",
       "      <td>316.68</td>\n",
       "      <td>27876215</td>\n",
       "      <td>319.23</td>\n",
       "      <td>319.52</td>\n",
       "      <td>316.2000</td>\n",
       "      <td>316.68</td>\n",
       "      <td>27876215</td>\n",
       "      <td>0.0</td>\n",
       "      <td>1.0</td>\n",
       "    </tr>\n",
       "    <tr>\n",
       "      <th>1256</th>\n",
       "      <td>1256</td>\n",
       "      <td>AAPL</td>\n",
       "      <td>2020-05-21 00:00:00+00:00</td>\n",
       "      <td>316.85</td>\n",
       "      <td>320.89</td>\n",
       "      <td>315.8700</td>\n",
       "      <td>318.66</td>\n",
       "      <td>25672211</td>\n",
       "      <td>316.85</td>\n",
       "      <td>320.89</td>\n",
       "      <td>315.8700</td>\n",
       "      <td>318.66</td>\n",
       "      <td>25672211</td>\n",
       "      <td>0.0</td>\n",
       "      <td>1.0</td>\n",
       "    </tr>\n",
       "    <tr>\n",
       "      <th>1257</th>\n",
       "      <td>1257</td>\n",
       "      <td>AAPL</td>\n",
       "      <td>2020-05-22 00:00:00+00:00</td>\n",
       "      <td>318.89</td>\n",
       "      <td>319.23</td>\n",
       "      <td>315.3500</td>\n",
       "      <td>315.77</td>\n",
       "      <td>20450754</td>\n",
       "      <td>318.89</td>\n",
       "      <td>319.23</td>\n",
       "      <td>315.3500</td>\n",
       "      <td>315.77</td>\n",
       "      <td>20450754</td>\n",
       "      <td>0.0</td>\n",
       "      <td>1.0</td>\n",
       "    </tr>\n",
       "  </tbody>\n",
       "</table>\n",
       "</div>"
      ],
      "text/plain": [
       "      Unnamed: 0 symbol                       date   close    high       low  \\\n",
       "1253        1253   AAPL  2020-05-18 00:00:00+00:00  314.96  316.50  310.3241   \n",
       "1254        1254   AAPL  2020-05-19 00:00:00+00:00  313.14  318.52  313.0100   \n",
       "1255        1255   AAPL  2020-05-20 00:00:00+00:00  319.23  319.52  316.2000   \n",
       "1256        1256   AAPL  2020-05-21 00:00:00+00:00  316.85  320.89  315.8700   \n",
       "1257        1257   AAPL  2020-05-22 00:00:00+00:00  318.89  319.23  315.3500   \n",
       "\n",
       "        open    volume  adjClose  adjHigh    adjLow  adjOpen  adjVolume  \\\n",
       "1253  313.17  33843125    314.96   316.50  310.3241   313.17   33843125   \n",
       "1254  315.03  25432385    313.14   318.52  313.0100   315.03   25432385   \n",
       "1255  316.68  27876215    319.23   319.52  316.2000   316.68   27876215   \n",
       "1256  318.66  25672211    316.85   320.89  315.8700   318.66   25672211   \n",
       "1257  315.77  20450754    318.89   319.23  315.3500   315.77   20450754   \n",
       "\n",
       "      divCash  splitFactor  \n",
       "1253      0.0          1.0  \n",
       "1254      0.0          1.0  \n",
       "1255      0.0          1.0  \n",
       "1256      0.0          1.0  \n",
       "1257      0.0          1.0  "
      ]
     },
     "execution_count": 3,
     "metadata": {},
     "output_type": "execute_result"
    }
   ],
   "source": [
    "df.tail()"
   ]
  },
  {
   "cell_type": "markdown",
   "id": "361c014d",
   "metadata": {},
   "source": [
    "Here i have used the 'high ' column of dataset  you can choose anyone of them"
   ]
  },
  {
   "cell_type": "code",
   "execution_count": 4,
   "id": "241d9bf3",
   "metadata": {},
   "outputs": [],
   "source": [
    "df1=df.reset_index()['high']"
   ]
  },
  {
   "cell_type": "code",
   "execution_count": 5,
   "id": "b51abd18",
   "metadata": {},
   "outputs": [
    {
     "data": {
      "text/plain": [
       "0    132.260\n",
       "1    131.950\n",
       "2    131.450\n",
       "3    131.390\n",
       "4    130.655\n",
       "Name: high, dtype: float64"
      ]
     },
     "execution_count": 5,
     "metadata": {},
     "output_type": "execute_result"
    }
   ],
   "source": [
    "df1.head()"
   ]
  },
  {
   "cell_type": "code",
   "execution_count": 6,
   "id": "d8faa41a",
   "metadata": {},
   "outputs": [
    {
     "data": {
      "text/plain": [
       "[<matplotlib.lines.Line2D at 0x24b57aaa460>]"
      ]
     },
     "execution_count": 6,
     "metadata": {},
     "output_type": "execute_result"
    },
    {
     "data": {
      "image/png": "[encoded data removed]",
      "text/plain": [
       "<Figure size 432x288 with 1 Axes>"
      ]
     },
     "metadata": {
      "needs_background": "light"
     },
     "output_type": "display_data"
    }
   ],
   "source": [
    "import matplotlib.pyplot as plt\n",
    "plt.plot(df1)"
   ]
  },
  {
   "cell_type": "code",
   "execution_count": 7,
   "id": "acd57777",
   "metadata": {},
   "outputs": [
    {
     "name": "stdout",
     "output_type": "stream",
     "text": [
      "(1258,)\n"
     ]
    },
    {
     "data": {
      "text/plain": [
       "(1258, 1)"
      ]
     },
     "execution_count": 7,
     "metadata": {},
     "output_type": "execute_result"
    }
   ],
   "source": [
    "### LSTM are sensitive to the scale of the data. so we apply MinMax scaler \n",
    "print(df1.shape)\n",
    "import numpy as np\n",
    "np.array(df1).reshape(-1,1).shape"
   ]
  },
  {
   "cell_type": "code",
   "execution_count": 8,
   "id": "b59f553a",
   "metadata": {},
   "outputs": [],
   "source": [
    "from sklearn.preprocessing import MinMaxScaler\n",
    "scaler=MinMaxScaler(feature_range=(0,1))\n",
    "df1=scaler.fit_transform(np.array(df1).reshape(-1,1))"
   ]
  },
  {
   "cell_type": "code",
   "execution_count": 9,
   "id": "ff45abfa",
   "metadata": {},
   "outputs": [
    {
     "data": {
      "text/plain": [
       "array([[0.17186045],\n",
       "       [0.17054789],\n",
       "       [0.16843086],\n",
       "       ...,\n",
       "       [0.96473029],\n",
       "       [0.97053095],\n",
       "       [0.96350241]])"
      ]
     },
     "execution_count": 9,
     "metadata": {},
     "output_type": "execute_result"
    }
   ],
   "source": [
    "df1"
   ]
  },
  {
   "cell_type": "code",
   "execution_count": 10,
   "id": "5b36b768",
   "metadata": {},
   "outputs": [
    {
     "data": {
      "text/plain": [
       "1258"
      ]
     },
     "execution_count": 10,
     "metadata": {},
     "output_type": "execute_result"
    }
   ],
   "source": [
    "# since the probelm statement is based on timeseries we simply cant use train.split \n",
    "len(df1)"
   ]
  },
  {
   "cell_type": "markdown",
   "id": "3a8b39a7",
   "metadata": {},
   "source": [
    " this dataset is data sensitive,train_Test_split  shuffle the dataset before splitting dataset so I have used the following steps"
   ]
  },
  {
   "cell_type": "code",
   "execution_count": 11,
   "id": "d9f92e76",
   "metadata": {},
   "outputs": [],
   "source": [
    "training_size=int(len(df1)*0.65)\n",
    "test_size=len(df1)-training_size\n",
    "train_data,test_data=df1[0:int(training_size),:],df1[training_size:len(df1),:1]\n"
   ]
  },
  {
   "cell_type": "code",
   "execution_count": 12,
   "id": "8e7cc23b",
   "metadata": {},
   "outputs": [
    {
     "data": {
      "text/plain": [
       "(817, 441)"
      ]
     },
     "execution_count": 12,
     "metadata": {},
     "output_type": "execute_result"
    }
   ],
   "source": [
    "training_size,test_size"
   ]
  },
  {
   "cell_type": "code",
   "execution_count": 13,
   "id": "7439b987",
   "metadata": {},
   "outputs": [
    {
     "data": {
      "text/plain": [
       "((817, 1), (441, 1))"
      ]
     },
     "execution_count": 13,
     "metadata": {},
     "output_type": "execute_result"
    }
   ],
   "source": [
    "train_data.shape,test_data.shape"
   ]
  },
  {
   "cell_type": "code",
   "execution_count": 14,
   "id": "fdd46d84",
   "metadata": {},
   "outputs": [],
   "source": [
    "def dataset(dataset,timestap=100):\n",
    "    dataX,dataY=[],[]\n",
    "    for i in range(len(dataset)-timestap-1):\n",
    "        a=dataset[i:(i+timestap),0]\n",
    "        dataX.append(a)\n",
    "        b=dataset[i+timestap,0]\n",
    "        dataY.append(b)\n",
    "    return np.array(dataX),np.array(dataY)\n",
    "\n",
    "        "
   ]
  },
  {
   "cell_type": "code",
   "execution_count": 15,
   "id": "bc7ad6c9",
   "metadata": {},
   "outputs": [],
   "source": [
    "# reshape into X=t,t+1,t+2,t+3 and Y=t+4\n",
    "time_step = 100\n",
    "X_train, y_train = dataset(train_data, time_step)\n",
    "X_test, ytest = dataset(test_data, time_step)"
   ]
  },
  {
   "cell_type": "code",
   "execution_count": 16,
   "id": "6d6ab020",
   "metadata": {},
   "outputs": [
    {
     "name": "stdout",
     "output_type": "stream",
     "text": [
      "(716, 100)\n",
      "(716,)\n"
     ]
    },
    {
     "data": {
      "text/plain": [
       "(None, None)"
      ]
     },
     "execution_count": 16,
     "metadata": {},
     "output_type": "execute_result"
    }
   ],
   "source": [
    "print(X_train.shape), print(y_train.shape)"
   ]
  },
  {
   "cell_type": "code",
   "execution_count": 17,
   "id": "4b8c0bab",
   "metadata": {},
   "outputs": [
    {
     "name": "stdout",
     "output_type": "stream",
     "text": [
      "(340, 100)\n",
      "(340,)\n"
     ]
    },
    {
     "data": {
      "text/plain": [
       "(None, None)"
      ]
     },
     "execution_count": 17,
     "metadata": {},
     "output_type": "execute_result"
    }
   ],
   "source": [
    "print(X_test.shape), print(ytest.shape)"
   ]
  },
  {
   "cell_type": "code",
   "execution_count": 18,
   "id": "59d6cebc",
   "metadata": {},
   "outputs": [],
   "source": [
    "# reshape input to be [samples, time steps, features] which is required for LSTM\n",
    "X_train =X_train.reshape(X_train.shape[0],X_train.shape[1] , 1)\n",
    "X_test = X_test.reshape(X_test.shape[0],X_test.shape[1] , 1)"
   ]
  },
  {
   "cell_type": "code",
   "execution_count": 19,
   "id": "8a5c33d2",
   "metadata": {},
   "outputs": [
    {
     "data": {
      "text/plain": [
       "(716, 100, 1)"
      ]
     },
     "execution_count": 19,
     "metadata": {},
     "output_type": "execute_result"
    }
   ],
   "source": [
    "X_train.shape"
   ]
  },
  {
   "cell_type": "code",
   "execution_count": 20,
   "id": "abd91e91",
   "metadata": {},
   "outputs": [],
   "source": [
    "### Create the Stacked LSTM model\n",
    "from tensorflow.keras.models import Sequential\n",
    "from tensorflow.keras.layers import Dense\n",
    "from tensorflow.keras.layers import LSTM"
   ]
  },
  {
   "cell_type": "code",
   "execution_count": 21,
   "id": "6b314ab1",
   "metadata": {},
   "outputs": [],
   "source": [
    "model=Sequential()\n",
    "model.add(LSTM(50,return_sequences=True,input_shape=(100,1)))\n",
    "model.add(LSTM(50,return_sequences=True))\n",
    "model.add(LSTM(50))\n",
    "model.add(Dense(1))\n",
    "model.compile(loss='mean_squared_error',optimizer='adam')"
   ]
  },
  {
   "cell_type": "code",
   "execution_count": 22,
   "id": "bd5b9fac",
   "metadata": {},
   "outputs": [
    {
     "name": "stdout",
     "output_type": "stream",
     "text": [
      "Model: \"sequential\"\n",
      "_________________________________________________________________\n",
      " Layer (type)                Output Shape              Param #   \n",
      "=================================================================\n",
      " lstm (LSTM)                 (None, 100, 50)           10400     \n",
      "                                                                 \n",
      " lstm_1 (LSTM)               (None, 100, 50)           20200     \n",
      "                                                                 \n",
      " lstm_2 (LSTM)               (None, 50)                20200     \n",
      "                                                                 \n",
      " dense (Dense)               (None, 1)                 51        \n",
      "                                                                 \n",
      "=================================================================\n",
      "Total params: 50,851\n",
      "Trainable params: 50,851\n",
      "Non-trainable params: 0\n",
      "_________________________________________________________________\n"
     ]
    }
   ],
   "source": [
    "model.summary()"
   ]
  },
  {
   "cell_type": "code",
   "execution_count": 23,
   "id": "15c6cf0c",
   "metadata": {},
   "outputs": [
    {
     "name": "stdout",
     "output_type": "stream",
     "text": [
      "Epoch 1/100\n",
      "12/12 [==============================] - 7s 227ms/step - loss: 0.0196 - val_loss: 0.0681\n",
      "Epoch 2/100\n",
      "12/12 [==============================] - 2s 133ms/step - loss: 0.0040 - val_loss: 0.0044\n",
      "Epoch 3/100\n",
      "12/12 [==============================] - 2s 140ms/step - loss: 0.0013 - val_loss: 0.0039\n",
      "Epoch 4/100\n",
      "12/12 [==============================] - 2s 131ms/step - loss: 8.1310e-04 - val_loss: 0.0052\n",
      "Epoch 5/100\n",
      "12/12 [==============================] - 2s 139ms/step - loss: 6.5407e-04 - val_loss: 0.0057\n",
      "Epoch 6/100\n",
      "12/12 [==============================] - 1s 123ms/step - loss: 6.2182e-04 - val_loss: 0.0050\n",
      "Epoch 7/100\n",
      "12/12 [==============================] - 1s 118ms/step - loss: 6.0823e-04 - val_loss: 0.0039\n",
      "Epoch 8/100\n",
      "12/12 [==============================] - 1s 120ms/step - loss: 5.9147e-04 - val_loss: 0.0040\n",
      "Epoch 9/100\n",
      "12/12 [==============================] - 2s 127ms/step - loss: 5.8674e-04 - val_loss: 0.0053\n",
      "Epoch 10/100\n",
      "12/12 [==============================] - 2s 136ms/step - loss: 5.9269e-04 - val_loss: 0.0037\n",
      "Epoch 11/100\n",
      "12/12 [==============================] - 1s 120ms/step - loss: 5.6135e-04 - val_loss: 0.0046\n",
      "Epoch 12/100\n",
      "12/12 [==============================] - 2s 137ms/step - loss: 5.6551e-04 - val_loss: 0.0042\n",
      "Epoch 13/100\n",
      "12/12 [==============================] - 2s 157ms/step - loss: 6.3500e-04 - val_loss: 0.0054\n",
      "Epoch 14/100\n",
      "12/12 [==============================] - 2s 156ms/step - loss: 6.1801e-04 - val_loss: 0.0038\n",
      "Epoch 15/100\n",
      "12/12 [==============================] - 2s 144ms/step - loss: 5.4320e-04 - val_loss: 0.0035\n",
      "Epoch 16/100\n",
      "12/12 [==============================] - 2s 126ms/step - loss: 5.5503e-04 - val_loss: 0.0034\n",
      "Epoch 17/100\n",
      "12/12 [==============================] - 2s 129ms/step - loss: 5.2224e-04 - val_loss: 0.0030\n",
      "Epoch 18/100\n",
      "12/12 [==============================] - 2s 128ms/step - loss: 4.9980e-04 - val_loss: 0.0027\n",
      "Epoch 19/100\n",
      "12/12 [==============================] - 2s 138ms/step - loss: 5.5854e-04 - val_loss: 0.0028\n",
      "Epoch 20/100\n",
      "12/12 [==============================] - 2s 133ms/step - loss: 5.0978e-04 - val_loss: 0.0029\n",
      "Epoch 21/100\n",
      "12/12 [==============================] - 1s 126ms/step - loss: 5.1098e-04 - val_loss: 0.0038\n",
      "Epoch 22/100\n",
      "12/12 [==============================] - 2s 127ms/step - loss: 4.9809e-04 - val_loss: 0.0028\n",
      "Epoch 23/100\n",
      "12/12 [==============================] - 2s 126ms/step - loss: 4.7540e-04 - val_loss: 0.0024\n",
      "Epoch 24/100\n",
      "12/12 [==============================] - 1s 124ms/step - loss: 4.6293e-04 - val_loss: 0.0023\n",
      "Epoch 25/100\n",
      "12/12 [==============================] - 2s 129ms/step - loss: 4.4596e-04 - val_loss: 0.0024\n",
      "Epoch 26/100\n",
      "12/12 [==============================] - 2s 132ms/step - loss: 4.2996e-04 - val_loss: 0.0022\n",
      "Epoch 27/100\n",
      "12/12 [==============================] - 2s 132ms/step - loss: 4.2431e-04 - val_loss: 0.0021\n",
      "Epoch 28/100\n",
      "12/12 [==============================] - 2s 131ms/step - loss: 4.1700e-04 - val_loss: 0.0021\n",
      "Epoch 29/100\n",
      "12/12 [==============================] - 2s 129ms/step - loss: 4.1597e-04 - val_loss: 0.0020\n",
      "Epoch 30/100\n",
      "12/12 [==============================] - 2s 139ms/step - loss: 4.9556e-04 - val_loss: 0.0033\n",
      "Epoch 31/100\n",
      "12/12 [==============================] - 2s 145ms/step - loss: 4.7714e-04 - val_loss: 0.0018\n",
      "Epoch 32/100\n",
      "12/12 [==============================] - 1s 124ms/step - loss: 3.9353e-04 - val_loss: 0.0024\n",
      "Epoch 33/100\n",
      "12/12 [==============================] - 2s 130ms/step - loss: 3.8776e-04 - val_loss: 0.0019\n",
      "Epoch 34/100\n",
      "12/12 [==============================] - 2s 174ms/step - loss: 3.9337e-04 - val_loss: 0.0016\n",
      "Epoch 35/100\n",
      "12/12 [==============================] - 2s 158ms/step - loss: 3.6789e-04 - val_loss: 0.0019\n",
      "Epoch 36/100\n",
      "12/12 [==============================] - 2s 156ms/step - loss: 3.6250e-04 - val_loss: 0.0020\n",
      "Epoch 37/100\n",
      "12/12 [==============================] - 2s 155ms/step - loss: 3.6275e-04 - val_loss: 0.0014\n",
      "Epoch 38/100\n",
      "12/12 [==============================] - 2s 160ms/step - loss: 3.6232e-04 - val_loss: 0.0014\n",
      "Epoch 39/100\n",
      "12/12 [==============================] - 2s 156ms/step - loss: 3.4091e-04 - val_loss: 0.0014\n",
      "Epoch 40/100\n",
      "12/12 [==============================] - 2s 163ms/step - loss: 3.3818e-04 - val_loss: 0.0015\n",
      "Epoch 41/100\n",
      "12/12 [==============================] - 2s 156ms/step - loss: 3.6050e-04 - val_loss: 0.0013\n",
      "Epoch 42/100\n",
      "12/12 [==============================] - 2s 162ms/step - loss: 3.6492e-04 - val_loss: 0.0029\n",
      "Epoch 43/100\n",
      "12/12 [==============================] - 2s 162ms/step - loss: 3.7396e-04 - val_loss: 0.0013\n",
      "Epoch 44/100\n",
      "12/12 [==============================] - 2s 170ms/step - loss: 3.4294e-04 - val_loss: 0.0013\n",
      "Epoch 45/100\n",
      "12/12 [==============================] - 2s 170ms/step - loss: 3.3855e-04 - val_loss: 0.0013\n",
      "Epoch 46/100\n",
      "12/12 [==============================] - 2s 167ms/step - loss: 3.1255e-04 - val_loss: 0.0017\n",
      "Epoch 47/100\n",
      "12/12 [==============================] - 2s 163ms/step - loss: 3.0214e-04 - val_loss: 0.0012\n",
      "Epoch 48/100\n",
      "12/12 [==============================] - 2s 171ms/step - loss: 2.9872e-04 - val_loss: 0.0015\n",
      "Epoch 49/100\n",
      "12/12 [==============================] - 2s 162ms/step - loss: 2.9510e-04 - val_loss: 0.0012\n",
      "Epoch 50/100\n",
      "12/12 [==============================] - 2s 167ms/step - loss: 2.9168e-04 - val_loss: 0.0012\n",
      "Epoch 51/100\n",
      "12/12 [==============================] - 2s 170ms/step - loss: 3.0078e-04 - val_loss: 0.0013\n",
      "Epoch 52/100\n",
      "12/12 [==============================] - 2s 162ms/step - loss: 3.2264e-04 - val_loss: 0.0022\n",
      "Epoch 53/100\n",
      "12/12 [==============================] - 2s 167ms/step - loss: 3.7525e-04 - val_loss: 0.0012\n",
      "Epoch 54/100\n",
      "12/12 [==============================] - 2s 165ms/step - loss: 2.9666e-04 - val_loss: 0.0014\n",
      "Epoch 55/100\n",
      "12/12 [==============================] - 2s 172ms/step - loss: 2.6873e-04 - val_loss: 0.0025\n",
      "Epoch 56/100\n",
      "12/12 [==============================] - 2s 170ms/step - loss: 2.8718e-04 - val_loss: 0.0016\n",
      "Epoch 57/100\n",
      "12/12 [==============================] - 2s 173ms/step - loss: 2.8003e-04 - val_loss: 0.0012\n",
      "Epoch 58/100\n",
      "12/12 [==============================] - 2s 170ms/step - loss: 3.0379e-04 - val_loss: 0.0026\n",
      "Epoch 59/100\n",
      "12/12 [==============================] - 2s 174ms/step - loss: 3.3382e-04 - val_loss: 0.0017\n",
      "Epoch 60/100\n",
      "12/12 [==============================] - 2s 176ms/step - loss: 3.6880e-04 - val_loss: 0.0024\n",
      "Epoch 61/100\n",
      "12/12 [==============================] - 2s 175ms/step - loss: 2.8812e-04 - val_loss: 0.0012\n",
      "Epoch 62/100\n",
      "12/12 [==============================] - 2s 172ms/step - loss: 3.1907e-04 - val_loss: 0.0019\n",
      "Epoch 63/100\n",
      "12/12 [==============================] - 2s 177ms/step - loss: 2.6193e-04 - val_loss: 0.0012\n",
      "Epoch 64/100\n",
      "12/12 [==============================] - 2s 174ms/step - loss: 2.6830e-04 - val_loss: 0.0021\n",
      "Epoch 65/100\n",
      "12/12 [==============================] - 2s 186ms/step - loss: 2.4420e-04 - val_loss: 0.0014\n",
      "Epoch 66/100\n",
      "12/12 [==============================] - 2s 172ms/step - loss: 2.4584e-04 - val_loss: 0.0015\n",
      "Epoch 67/100\n",
      "12/12 [==============================] - 2s 174ms/step - loss: 2.3561e-04 - val_loss: 0.0012\n",
      "Epoch 68/100\n",
      "12/12 [==============================] - 2s 182ms/step - loss: 2.2965e-04 - val_loss: 0.0013\n",
      "Epoch 69/100\n",
      "12/12 [==============================] - 2s 183ms/step - loss: 2.2337e-04 - val_loss: 0.0023\n",
      "Epoch 70/100\n",
      "12/12 [==============================] - 2s 177ms/step - loss: 2.4818e-04 - val_loss: 0.0012\n",
      "Epoch 71/100\n",
      "12/12 [==============================] - 2s 183ms/step - loss: 2.1213e-04 - val_loss: 0.0017\n",
      "Epoch 72/100\n",
      "12/12 [==============================] - 2s 181ms/step - loss: 2.2492e-04 - val_loss: 0.0010\n",
      "Epoch 73/100\n",
      "12/12 [==============================] - 2s 176ms/step - loss: 2.3214e-04 - val_loss: 0.0018\n",
      "Epoch 74/100\n",
      "12/12 [==============================] - 2s 176ms/step - loss: 2.2212e-04 - val_loss: 0.0013\n",
      "Epoch 75/100\n",
      "12/12 [==============================] - 2s 181ms/step - loss: 2.2738e-04 - val_loss: 0.0010\n",
      "Epoch 76/100\n",
      "12/12 [==============================] - 2s 195ms/step - loss: 2.4138e-04 - val_loss: 0.0019\n",
      "Epoch 77/100\n",
      "12/12 [==============================] - 2s 198ms/step - loss: 2.3460e-04 - val_loss: 0.0014\n",
      "Epoch 78/100\n"
     ]
    },
    {
     "name": "stdout",
     "output_type": "stream",
     "text": [
      "12/12 [==============================] - 2s 178ms/step - loss: 2.5359e-04 - val_loss: 0.0019\n",
      "Epoch 79/100\n",
      "12/12 [==============================] - 2s 195ms/step - loss: 2.5552e-04 - val_loss: 0.0012\n",
      "Epoch 80/100\n",
      "12/12 [==============================] - 2s 204ms/step - loss: 2.1508e-04 - val_loss: 0.0010\n",
      "Epoch 81/100\n",
      "12/12 [==============================] - 2s 195ms/step - loss: 2.0526e-04 - val_loss: 0.0012\n",
      "Epoch 82/100\n",
      "12/12 [==============================] - 2s 187ms/step - loss: 2.1624e-04 - val_loss: 0.0016\n",
      "Epoch 83/100\n",
      "12/12 [==============================] - 2s 189ms/step - loss: 1.9022e-04 - val_loss: 0.0015\n",
      "Epoch 84/100\n",
      "12/12 [==============================] - 2s 189ms/step - loss: 1.8222e-04 - val_loss: 9.7229e-04\n",
      "Epoch 85/100\n",
      "12/12 [==============================] - 2s 181ms/step - loss: 1.9105e-04 - val_loss: 0.0016\n",
      "Epoch 86/100\n",
      "12/12 [==============================] - 2s 174ms/step - loss: 2.0149e-04 - val_loss: 0.0010\n",
      "Epoch 87/100\n",
      "12/12 [==============================] - 2s 168ms/step - loss: 1.8134e-04 - val_loss: 8.7857e-04\n",
      "Epoch 88/100\n",
      "12/12 [==============================] - 2s 160ms/step - loss: 1.6554e-04 - val_loss: 0.0010\n",
      "Epoch 89/100\n",
      "12/12 [==============================] - 2s 152ms/step - loss: 1.9110e-04 - val_loss: 9.3172e-04\n",
      "Epoch 90/100\n",
      "12/12 [==============================] - 2s 148ms/step - loss: 1.6798e-04 - val_loss: 9.1570e-04\n",
      "Epoch 91/100\n",
      "12/12 [==============================] - 2s 144ms/step - loss: 1.5302e-04 - val_loss: 9.1715e-04\n",
      "Epoch 92/100\n",
      "12/12 [==============================] - 2s 146ms/step - loss: 1.8667e-04 - val_loss: 0.0012\n",
      "Epoch 93/100\n",
      "12/12 [==============================] - 2s 145ms/step - loss: 1.6039e-04 - val_loss: 8.0146e-04\n",
      "Epoch 94/100\n",
      "12/12 [==============================] - 2s 144ms/step - loss: 1.4510e-04 - val_loss: 7.8834e-04\n",
      "Epoch 95/100\n",
      "12/12 [==============================] - 2s 145ms/step - loss: 1.4230e-04 - val_loss: 7.7654e-04\n",
      "Epoch 96/100\n",
      "12/12 [==============================] - 2s 145ms/step - loss: 1.4528e-04 - val_loss: 0.0011\n",
      "Epoch 97/100\n",
      "12/12 [==============================] - 2s 145ms/step - loss: 2.0540e-04 - val_loss: 0.0011\n",
      "Epoch 98/100\n",
      "12/12 [==============================] - 2s 145ms/step - loss: 1.6454e-04 - val_loss: 8.2263e-04\n",
      "Epoch 99/100\n",
      "12/12 [==============================] - 2s 150ms/step - loss: 1.7006e-04 - val_loss: 9.0046e-04\n",
      "Epoch 100/100\n",
      "12/12 [==============================] - 2s 159ms/step - loss: 1.5553e-04 - val_loss: 0.0012\n"
     ]
    },
    {
     "data": {
      "text/plain": [
       "<keras.callbacks.History at 0x24b6204ff10>"
      ]
     },
     "execution_count": 23,
     "metadata": {},
     "output_type": "execute_result"
    }
   ],
   "source": [
    "model.fit(X_train,y_train,validation_data=(X_test,ytest),epochs=100,batch_size=64,verbose=1)"
   ]
  },
  {
   "cell_type": "code",
   "execution_count": 24,
   "id": "7c29b321",
   "metadata": {},
   "outputs": [
    {
     "data": {
      "text/plain": [
       "'2.8.0'"
      ]
     },
     "execution_count": 24,
     "metadata": {},
     "output_type": "execute_result"
    }
   ],
   "source": [
    "import tensorflow as tf\n",
    "tf.__version__"
   ]
  },
  {
   "cell_type": "code",
   "execution_count": 25,
   "id": "0d1ec619",
   "metadata": {},
   "outputs": [],
   "source": [
    "### Lets Do the prediction and check performance metrics\n",
    "train_predict=model.predict(X_train)\n",
    "test_predict=model.predict(X_test)"
   ]
  },
  {
   "cell_type": "code",
   "execution_count": 26,
   "id": "e4272796",
   "metadata": {},
   "outputs": [],
   "source": [
    "##Transformback to original form\n",
    "train_predict=scaler.inverse_transform(train_predict)\n",
    "test_predict=scaler.inverse_transform(test_predict)"
   ]
  },
  {
   "cell_type": "code",
   "execution_count": 27,
   "id": "a2c674a7",
   "metadata": {},
   "outputs": [
    {
     "data": {
      "text/plain": [
       "141.47063935357633"
      ]
     },
     "execution_count": 27,
     "metadata": {},
     "output_type": "execute_result"
    }
   ],
   "source": [
    "### Calculate RMSE performance metrics\n",
    "import math\n",
    "from sklearn.metrics import mean_squared_error\n",
    "math.sqrt(mean_squared_error(y_train,train_predict))"
   ]
  },
  {
   "cell_type": "code",
   "execution_count": 28,
   "id": "43bd7e6d",
   "metadata": {},
   "outputs": [
    {
     "data": {
      "text/plain": [
       "716"
      ]
     },
     "execution_count": 28,
     "metadata": {},
     "output_type": "execute_result"
    }
   ],
   "source": [
    "### Test Data RMSE\n",
    "math.sqrt(mean_squared_error(ytest,test_predict))\n",
    "len(train_predict)"
   ]
  },
  {
   "cell_type": "code",
   "execution_count": 29,
   "id": "5f3a9915",
   "metadata": {},
   "outputs": [
    {
     "data": {
      "image/png": "[encoded data removed]",
      "text/plain": [
       "<Figure size 432x288 with 1 Axes>"
      ]
     },
     "metadata": {
      "needs_background": "light"
     },
     "output_type": "display_data"
    }
   ],
   "source": [
    "### Plotting \n",
    "# shift train predictions for plotting\n",
    "look_back=100\n",
    "trainPredictPlot = np.empty_like(df1)\n",
    "trainPredictPlot[:, :] = np.nan\n",
    "trainPredictPlot[100:len(train_predict)+look_back, :] = train_predict\n",
    "# shift test predictions for plotting\n",
    "testPredictPlot = np.empty_like(df1)\n",
    "testPredictPlot[:, :] = np.nan\n",
    "testPredictPlot[len(train_predict)+(look_back*2)+1:len(df1)-1, :] = test_predict\n",
    "# plot baseline and predictions\n",
    "plt.plot(scaler.inverse_transform(df1))\n",
    "plt.plot(trainPredictPlot)\n",
    "plt.plot(testPredictPlot)\n",
    "plt.show()"
   ]
  },
  {
   "cell_type": "code",
   "execution_count": 30,
   "id": "a5858557",
   "metadata": {},
   "outputs": [
    {
     "data": {
      "text/plain": [
       "441"
      ]
     },
     "execution_count": 30,
     "metadata": {},
     "output_type": "execute_result"
    }
   ],
   "source": [
    "len(test_data)"
   ]
  },
  {
   "cell_type": "code",
   "execution_count": 31,
   "id": "7dec7621",
   "metadata": {},
   "outputs": [
    {
     "data": {
      "text/plain": [
       "(1, 100)"
      ]
     },
     "execution_count": 31,
     "metadata": {},
     "output_type": "execute_result"
    }
   ],
   "source": [
    "x_input=test_data[341:].reshape(1,-1)\n",
    "x_input.shape"
   ]
  },
  {
   "cell_type": "code",
   "execution_count": 32,
   "id": "f4c77d02",
   "metadata": {},
   "outputs": [
    {
     "data": {
      "text/plain": [
       "array([[0.85532221, 0.8846219 , 0.88453722, 0.8819121 , 0.88589212,\n",
       "        0.90088026, 0.9262427 , 0.93572699, 0.95435685, 0.95647388,\n",
       "        0.94770937, 0.94855619, 0.96142772, 0.96261326, 0.9667203 ,\n",
       "        0.96489965, 0.98086205, 0.93191633, 0.95998814, 1.        ,\n",
       "        0.98407994, 0.97810992, 0.93919892, 0.96523838, 0.98691676,\n",
       "        0.98886443, 0.98115844, 0.97332543, 0.98327547, 0.99733254,\n",
       "        0.99309848, 0.99208231, 0.96570412, 0.98611229, 0.98645101,\n",
       "        0.96866797, 0.89977983, 0.89279363, 0.87310526, 0.82280464,\n",
       "        0.79066813, 0.88817851, 0.8990177 , 0.89647726, 0.88017614,\n",
       "        0.8432128 , 0.78931324, 0.82466763, 0.80256584, 0.7550597 ,\n",
       "        0.79706156, 0.70882378, 0.70259971, 0.67037852, 0.68240325,\n",
       "        0.67812685, 0.57934499, 0.66059785, 0.70530951, 0.70713015,\n",
       "        0.69523245, 0.69375053, 0.72326192, 0.66495893, 0.64984334,\n",
       "        0.65217207, 0.72588704, 0.7622576 , 0.74392413, 0.75535608,\n",
       "        0.77072572, 0.83233127, 0.82420188, 0.83210898, 0.82680583,\n",
       "        0.80451351, 0.78575663, 0.78850876, 0.80480989, 0.8101448 ,\n",
       "        0.81662291, 0.82208485, 0.83834364, 0.85892116, 0.8778474 ,\n",
       "        0.85536455, 0.88631552, 0.89579981, 0.90397155, 0.92590397,\n",
       "        0.95427217, 0.96544161, 0.9496147 , 0.9235329 , 0.91553053,\n",
       "        0.95194343, 0.96049623, 0.96473029, 0.97053095, 0.96350241]])"
      ]
     },
     "execution_count": 32,
     "metadata": {},
     "output_type": "execute_result"
    }
   ],
   "source": [
    "x_input"
   ]
  },
  {
   "cell_type": "code",
   "execution_count": 33,
   "id": "7b3e5020",
   "metadata": {},
   "outputs": [],
   "source": [
    "temp_input=x_input\n",
    "temp_input=temp_input[0].tolist()\n"
   ]
  },
  {
   "cell_type": "code",
   "execution_count": 34,
   "id": "06870bfe",
   "metadata": {},
   "outputs": [
    {
     "data": {
      "text/plain": [
       "[0.855322211872301,\n",
       " 0.8846218985519521,\n",
       " 0.8845372173765771,\n",
       " 0.8819121009399611,\n",
       " 0.8858921161825726,\n",
       " 0.9008802608180202,\n",
       " 0.9262426962486241,\n",
       " 0.935726987890592,\n",
       " 0.954356846473029,\n",
       " 0.956473875857397,\n",
       " 0.947709374206114,\n",
       " 0.948556185959861,\n",
       " 0.9614277246168177,\n",
       " 0.9626132610720637,\n",
       " 0.9667202980777374,\n",
       " 0.9648996528071809,\n",
       " 0.9808620543653146,\n",
       " 0.9319163349987298,\n",
       " 0.9599881446354475,\n",
       " 1.0000000000000002,\n",
       " 0.9840799390295536,\n",
       " 0.9781099161656364,\n",
       " 0.9391989160809553,\n",
       " 0.9652383775086799,\n",
       " 0.9869167584046066,\n",
       " 0.9888644254382253,\n",
       " 0.9811584384791261,\n",
       " 0.9733254297569651,\n",
       " 0.9832754678634938,\n",
       " 0.9973325429756967,\n",
       " 0.993098484206961,\n",
       " 0.9920823101024643,\n",
       " 0.9657041239732409,\n",
       " 0.9861122872385468,\n",
       " 0.9864510119400456,\n",
       " 0.9686679651113557,\n",
       " 0.8997798289440258,\n",
       " 0.8927936319756118,\n",
       " 0.8731052587009909,\n",
       " 0.8228046405284106,\n",
       " 0.7906681344737065,\n",
       " 0.88817850791769,\n",
       " 0.8990176983656533,\n",
       " 0.8964772631044118,\n",
       " 0.8801761368447796,\n",
       " 0.8432128037937168,\n",
       " 0.789313235667711,\n",
       " 0.8246676263866544,\n",
       " 0.802565839613854,\n",
       " 0.7550597002286392,\n",
       " 0.7970615632144975,\n",
       " 0.7088237784740452,\n",
       " 0.7025997120840037,\n",
       " 0.6703785248539249,\n",
       " 0.6824032517571343,\n",
       " 0.6781268524007114,\n",
       " 0.5793449911084766,\n",
       " 0.6605978490981455,\n",
       " 0.7053095096959947,\n",
       " 0.707130154966551,\n",
       " 0.6952324498264038,\n",
       " 0.6937505292573463,\n",
       " 0.7232619188754341,\n",
       " 0.6649589296299432,\n",
       " 0.6498433398255568,\n",
       " 0.6521720721483615,\n",
       " 0.7258870353120501,\n",
       " 0.7622576001354899,\n",
       " 0.7439241256668643,\n",
       " 0.7553560843424507,\n",
       " 0.7707257176729614,\n",
       " 0.8323312727580658,\n",
       " 0.8242018799220934,\n",
       " 0.8321089846727072,\n",
       " 0.8268058260648659,\n",
       " 0.8045135066474722,\n",
       " 0.7857566263019731,\n",
       " 0.7885087645016513,\n",
       " 0.8048098907612837,\n",
       " 0.8101448048098907,\n",
       " 0.8166229147260564,\n",
       " 0.8220848505377254,\n",
       " 0.8383436362096708,\n",
       " 0.858921161825726,\n",
       " 0.8778474045219749,\n",
       " 0.8553645524599882,\n",
       " 0.8863155220594463,\n",
       " 0.8957998137014143,\n",
       " 0.9039715471250742,\n",
       " 0.9259039715471251,\n",
       " 0.9542721652976545,\n",
       " 0.965441612329579,\n",
       " 0.949614700652045,\n",
       " 0.9235328986366331,\n",
       " 0.9155305275637224,\n",
       " 0.9519434329748497,\n",
       " 0.9604962316876957,\n",
       " 0.9647302904564314,\n",
       " 0.9705309509695994,\n",
       " 0.9635024134134984]"
      ]
     },
     "execution_count": 34,
     "metadata": {},
     "output_type": "execute_result"
    }
   ],
   "source": [
    "temp_input[1:5]"
   ]
  },
  {
   "cell_type": "markdown",
   "id": "7b435d37",
   "metadata": {},
   "source": [
    "## predicting stock price for next 100 days"
   ]
  },
  {
   "cell_type": "code",
   "execution_count": 35,
   "id": "0ff4ce0a",
   "metadata": {},
   "outputs": [
    {
     "name": "stdout",
     "output_type": "stream",
     "text": [
      "[0.92706597]\n",
      "101\n",
      "(100,)\n",
      "1 day input [0.8846219  0.88453722 0.8819121  0.88589212 0.90088026 0.9262427\n",
      " 0.93572699 0.95435685 0.95647388 0.94770937 0.94855619 0.96142772\n",
      " 0.96261326 0.9667203  0.96489965 0.98086205 0.93191633 0.95998814\n",
      " 1.         0.98407994 0.97810992 0.93919892 0.96523838 0.98691676\n",
      " 0.98886443 0.98115844 0.97332543 0.98327547 0.99733254 0.99309848\n",
      " 0.99208231 0.96570412 0.98611229 0.98645101 0.96866797 0.89977983\n",
      " 0.89279363 0.87310526 0.82280464 0.79066813 0.88817851 0.8990177\n",
      " 0.89647726 0.88017614 0.8432128  0.78931324 0.82466763 0.80256584\n",
      " 0.7550597  0.79706156 0.70882378 0.70259971 0.67037852 0.68240325\n",
      " 0.67812685 0.57934499 0.66059785 0.70530951 0.70713015 0.69523245\n",
      " 0.69375053 0.72326192 0.66495893 0.64984334 0.65217207 0.72588704\n",
      " 0.7622576  0.74392413 0.75535608 0.77072572 0.83233127 0.82420188\n",
      " 0.83210898 0.82680583 0.80451351 0.78575663 0.78850876 0.80480989\n",
      " 0.8101448  0.81662291 0.82208485 0.83834364 0.85892116 0.8778474\n",
      " 0.85536455 0.88631552 0.89579981 0.90397155 0.92590397 0.95427217\n",
      " 0.96544161 0.9496147  0.9235329  0.91553053 0.95194343 0.96049623\n",
      " 0.96473029 0.97053095 0.96350241 0.92706597] \n",
      "(1, 100)\n",
      "(1, 1)\n",
      "1 day output [[0.9150353]]\n",
      "(100,)\n",
      "2 day input [0.88453722 0.8819121  0.88589212 0.90088026 0.9262427  0.93572699\n",
      " 0.95435685 0.95647388 0.94770937 0.94855619 0.96142772 0.96261326\n",
      " 0.9667203  0.96489965 0.98086205 0.93191633 0.95998814 1.\n",
      " 0.98407994 0.97810992 0.93919892 0.96523838 0.98691676 0.98886443\n",
      " 0.98115844 0.97332543 0.98327547 0.99733254 0.99309848 0.99208231\n",
      " 0.96570412 0.98611229 0.98645101 0.96866797 0.89977983 0.89279363\n",
      " 0.87310526 0.82280464 0.79066813 0.88817851 0.8990177  0.89647726\n",
      " 0.88017614 0.8432128  0.78931324 0.82466763 0.80256584 0.7550597\n",
      " 0.79706156 0.70882378 0.70259971 0.67037852 0.68240325 0.67812685\n",
      " 0.57934499 0.66059785 0.70530951 0.70713015 0.69523245 0.69375053\n",
      " 0.72326192 0.66495893 0.64984334 0.65217207 0.72588704 0.7622576\n",
      " 0.74392413 0.75535608 0.77072572 0.83233127 0.82420188 0.83210898\n",
      " 0.82680583 0.80451351 0.78575663 0.78850876 0.80480989 0.8101448\n",
      " 0.81662291 0.82208485 0.83834364 0.85892116 0.8778474  0.85536455\n",
      " 0.88631552 0.89579981 0.90397155 0.92590397 0.95427217 0.96544161\n",
      " 0.9496147  0.9235329  0.91553053 0.95194343 0.96049623 0.96473029\n",
      " 0.97053095 0.96350241 0.92706597 0.91503531] \n",
      "(1, 100)\n",
      "(1, 1)\n",
      "2 day output [[0.89665544]]\n",
      "(100,)\n",
      "3 day input [0.8819121  0.88589212 0.90088026 0.9262427  0.93572699 0.95435685\n",
      " 0.95647388 0.94770937 0.94855619 0.96142772 0.96261326 0.9667203\n",
      " 0.96489965 0.98086205 0.93191633 0.95998814 1.         0.98407994\n",
      " 0.97810992 0.93919892 0.96523838 0.98691676 0.98886443 0.98115844\n",
      " 0.97332543 0.98327547 0.99733254 0.99309848 0.99208231 0.96570412\n",
      " 0.98611229 0.98645101 0.96866797 0.89977983 0.89279363 0.87310526\n",
      " 0.82280464 0.79066813 0.88817851 0.8990177  0.89647726 0.88017614\n",
      " 0.8432128  0.78931324 0.82466763 0.80256584 0.7550597  0.79706156\n",
      " 0.70882378 0.70259971 0.67037852 0.68240325 0.67812685 0.57934499\n",
      " 0.66059785 0.70530951 0.70713015 0.69523245 0.69375053 0.72326192\n",
      " 0.66495893 0.64984334 0.65217207 0.72588704 0.7622576  0.74392413\n",
      " 0.75535608 0.77072572 0.83233127 0.82420188 0.83210898 0.82680583\n",
      " 0.80451351 0.78575663 0.78850876 0.80480989 0.8101448  0.81662291\n",
      " 0.82208485 0.83834364 0.85892116 0.8778474  0.85536455 0.88631552\n",
      " 0.89579981 0.90397155 0.92590397 0.95427217 0.96544161 0.9496147\n",
      " 0.9235329  0.91553053 0.95194343 0.96049623 0.96473029 0.97053095\n",
      " 0.96350241 0.92706597 0.91503531 0.89665544] \n",
      "(1, 100)\n",
      "(1, 1)\n",
      "3 day output [[0.8773906]]\n",
      "(100,)\n",
      "4 day input [0.88589212 0.90088026 0.9262427  0.93572699 0.95435685 0.95647388\n",
      " 0.94770937 0.94855619 0.96142772 0.96261326 0.9667203  0.96489965\n",
      " 0.98086205 0.93191633 0.95998814 1.         0.98407994 0.97810992\n",
      " 0.93919892 0.96523838 0.98691676 0.98886443 0.98115844 0.97332543\n",
      " 0.98327547 0.99733254 0.99309848 0.99208231 0.96570412 0.98611229\n",
      " 0.98645101 0.96866797 0.89977983 0.89279363 0.87310526 0.82280464\n",
      " 0.79066813 0.88817851 0.8990177  0.89647726 0.88017614 0.8432128\n",
      " 0.78931324 0.82466763 0.80256584 0.7550597  0.79706156 0.70882378\n",
      " 0.70259971 0.67037852 0.68240325 0.67812685 0.57934499 0.66059785\n",
      " 0.70530951 0.70713015 0.69523245 0.69375053 0.72326192 0.66495893\n",
      " 0.64984334 0.65217207 0.72588704 0.7622576  0.74392413 0.75535608\n",
      " 0.77072572 0.83233127 0.82420188 0.83210898 0.82680583 0.80451351\n",
      " 0.78575663 0.78850876 0.80480989 0.8101448  0.81662291 0.82208485\n",
      " 0.83834364 0.85892116 0.8778474  0.85536455 0.88631552 0.89579981\n",
      " 0.90397155 0.92590397 0.95427217 0.96544161 0.9496147  0.9235329\n",
      " 0.91553053 0.95194343 0.96049623 0.96473029 0.97053095 0.96350241\n",
      " 0.92706597 0.91503531 0.89665544 0.87739062] \n",
      "(1, 100)\n",
      "(1, 1)\n",
      "4 day output [[0.85959035]]\n",
      "(100,)\n",
      "5 day input [0.90088026 0.9262427  0.93572699 0.95435685 0.95647388 0.94770937\n",
      " 0.94855619 0.96142772 0.96261326 0.9667203  0.96489965 0.98086205\n",
      " 0.93191633 0.95998814 1.         0.98407994 0.97810992 0.93919892\n",
      " 0.96523838 0.98691676 0.98886443 0.98115844 0.97332543 0.98327547\n",
      " 0.99733254 0.99309848 0.99208231 0.96570412 0.98611229 0.98645101\n",
      " 0.96866797 0.89977983 0.89279363 0.87310526 0.82280464 0.79066813\n",
      " 0.88817851 0.8990177  0.89647726 0.88017614 0.8432128  0.78931324\n",
      " 0.82466763 0.80256584 0.7550597  0.79706156 0.70882378 0.70259971\n",
      " 0.67037852 0.68240325 0.67812685 0.57934499 0.66059785 0.70530951\n",
      " 0.70713015 0.69523245 0.69375053 0.72326192 0.66495893 0.64984334\n",
      " 0.65217207 0.72588704 0.7622576  0.74392413 0.75535608 0.77072572\n",
      " 0.83233127 0.82420188 0.83210898 0.82680583 0.80451351 0.78575663\n",
      " 0.78850876 0.80480989 0.8101448  0.81662291 0.82208485 0.83834364\n",
      " 0.85892116 0.8778474  0.85536455 0.88631552 0.89579981 0.90397155\n",
      " 0.92590397 0.95427217 0.96544161 0.9496147  0.9235329  0.91553053\n",
      " 0.95194343 0.96049623 0.96473029 0.97053095 0.96350241 0.92706597\n",
      " 0.91503531 0.89665544 0.87739062 0.85959035] \n",
      "(1, 100)\n",
      "(1, 1)\n",
      "5 day output [[0.844362]]\n",
      "(100,)\n",
      "6 day input [0.9262427  0.93572699 0.95435685 0.95647388 0.94770937 0.94855619\n",
      " 0.96142772 0.96261326 0.9667203  0.96489965 0.98086205 0.93191633\n",
      " 0.95998814 1.         0.98407994 0.97810992 0.93919892 0.96523838\n",
      " 0.98691676 0.98886443 0.98115844 0.97332543 0.98327547 0.99733254\n",
      " 0.99309848 0.99208231 0.96570412 0.98611229 0.98645101 0.96866797\n",
      " 0.89977983 0.89279363 0.87310526 0.82280464 0.79066813 0.88817851\n",
      " 0.8990177  0.89647726 0.88017614 0.8432128  0.78931324 0.82466763\n",
      " 0.80256584 0.7550597  0.79706156 0.70882378 0.70259971 0.67037852\n",
      " 0.68240325 0.67812685 0.57934499 0.66059785 0.70530951 0.70713015\n",
      " 0.69523245 0.69375053 0.72326192 0.66495893 0.64984334 0.65217207\n",
      " 0.72588704 0.7622576  0.74392413 0.75535608 0.77072572 0.83233127\n",
      " 0.82420188 0.83210898 0.82680583 0.80451351 0.78575663 0.78850876\n",
      " 0.80480989 0.8101448  0.81662291 0.82208485 0.83834364 0.85892116\n",
      " 0.8778474  0.85536455 0.88631552 0.89579981 0.90397155 0.92590397\n",
      " 0.95427217 0.96544161 0.9496147  0.9235329  0.91553053 0.95194343\n",
      " 0.96049623 0.96473029 0.97053095 0.96350241 0.92706597 0.91503531\n",
      " 0.89665544 0.87739062 0.85959035 0.84436202] \n",
      "(1, 100)\n",
      "(1, 1)\n",
      "6 day output [[0.8322133]]\n",
      "(100,)\n",
      "7 day input [0.93572699 0.95435685 0.95647388 0.94770937 0.94855619 0.96142772\n",
      " 0.96261326 0.9667203  0.96489965 0.98086205 0.93191633 0.95998814\n",
      " 1.         0.98407994 0.97810992 0.93919892 0.96523838 0.98691676\n",
      " 0.98886443 0.98115844 0.97332543 0.98327547 0.99733254 0.99309848\n",
      " 0.99208231 0.96570412 0.98611229 0.98645101 0.96866797 0.89977983\n",
      " 0.89279363 0.87310526 0.82280464 0.79066813 0.88817851 0.8990177\n",
      " 0.89647726 0.88017614 0.8432128  0.78931324 0.82466763 0.80256584\n",
      " 0.7550597  0.79706156 0.70882378 0.70259971 0.67037852 0.68240325\n",
      " 0.67812685 0.57934499 0.66059785 0.70530951 0.70713015 0.69523245\n",
      " 0.69375053 0.72326192 0.66495893 0.64984334 0.65217207 0.72588704\n",
      " 0.7622576  0.74392413 0.75535608 0.77072572 0.83233127 0.82420188\n",
      " 0.83210898 0.82680583 0.80451351 0.78575663 0.78850876 0.80480989\n",
      " 0.8101448  0.81662291 0.82208485 0.83834364 0.85892116 0.8778474\n",
      " 0.85536455 0.88631552 0.89579981 0.90397155 0.92590397 0.95427217\n",
      " 0.96544161 0.9496147  0.9235329  0.91553053 0.95194343 0.96049623\n",
      " 0.96473029 0.97053095 0.96350241 0.92706597 0.91503531 0.89665544\n",
      " 0.87739062 0.85959035 0.84436202 0.83221328] \n",
      "(1, 100)\n",
      "(1, 1)\n",
      "7 day output [[0.8232564]]\n",
      "(100,)\n",
      "8 day input [0.95435685 0.95647388 0.94770937 0.94855619 0.96142772 0.96261326\n",
      " 0.9667203  0.96489965 0.98086205 0.93191633 0.95998814 1.\n",
      " 0.98407994 0.97810992 0.93919892 0.96523838 0.98691676 0.98886443\n",
      " 0.98115844 0.97332543 0.98327547 0.99733254 0.99309848 0.99208231\n",
      " 0.96570412 0.98611229 0.98645101 0.96866797 0.89977983 0.89279363\n",
      " 0.87310526 0.82280464 0.79066813 0.88817851 0.8990177  0.89647726\n",
      " 0.88017614 0.8432128  0.78931324 0.82466763 0.80256584 0.7550597\n",
      " 0.79706156 0.70882378 0.70259971 0.67037852 0.68240325 0.67812685\n",
      " 0.57934499 0.66059785 0.70530951 0.70713015 0.69523245 0.69375053\n",
      " 0.72326192 0.66495893 0.64984334 0.65217207 0.72588704 0.7622576\n",
      " 0.74392413 0.75535608 0.77072572 0.83233127 0.82420188 0.83210898\n",
      " 0.82680583 0.80451351 0.78575663 0.78850876 0.80480989 0.8101448\n",
      " 0.81662291 0.82208485 0.83834364 0.85892116 0.8778474  0.85536455\n",
      " 0.88631552 0.89579981 0.90397155 0.92590397 0.95427217 0.96544161\n",
      " 0.9496147  0.9235329  0.91553053 0.95194343 0.96049623 0.96473029\n",
      " 0.97053095 0.96350241 0.92706597 0.91503531 0.89665544 0.87739062\n",
      " 0.85959035 0.84436202 0.83221328 0.82325637] \n",
      "(1, 100)\n",
      "(1, 1)\n",
      "8 day output [[0.8173068]]\n",
      "(100,)\n",
      "9 day input [0.95647388 0.94770937 0.94855619 0.96142772 0.96261326 0.9667203\n",
      " 0.96489965 0.98086205 0.93191633 0.95998814 1.         0.98407994\n",
      " 0.97810992 0.93919892 0.96523838 0.98691676 0.98886443 0.98115844\n",
      " 0.97332543 0.98327547 0.99733254 0.99309848 0.99208231 0.96570412\n",
      " 0.98611229 0.98645101 0.96866797 0.89977983 0.89279363 0.87310526\n",
      " 0.82280464 0.79066813 0.88817851 0.8990177  0.89647726 0.88017614\n",
      " 0.8432128  0.78931324 0.82466763 0.80256584 0.7550597  0.79706156\n",
      " 0.70882378 0.70259971 0.67037852 0.68240325 0.67812685 0.57934499\n",
      " 0.66059785 0.70530951 0.70713015 0.69523245 0.69375053 0.72326192\n",
      " 0.66495893 0.64984334 0.65217207 0.72588704 0.7622576  0.74392413\n",
      " 0.75535608 0.77072572 0.83233127 0.82420188 0.83210898 0.82680583\n",
      " 0.80451351 0.78575663 0.78850876 0.80480989 0.8101448  0.81662291\n",
      " 0.82208485 0.83834364 0.85892116 0.8778474  0.85536455 0.88631552\n",
      " 0.89579981 0.90397155 0.92590397 0.95427217 0.96544161 0.9496147\n",
      " 0.9235329  0.91553053 0.95194343 0.96049623 0.96473029 0.97053095\n",
      " 0.96350241 0.92706597 0.91503531 0.89665544 0.87739062 0.85959035\n",
      " 0.84436202 0.83221328 0.82325637 0.81730682] \n",
      "(1, 100)\n",
      "(1, 1)\n",
      "9 day output [[0.8139635]]\n",
      "(100,)\n",
      "10 day input [0.94770937 0.94855619 0.96142772 0.96261326 0.9667203  0.96489965\n",
      " 0.98086205 0.93191633 0.95998814 1.         0.98407994 0.97810992\n",
      " 0.93919892 0.96523838 0.98691676 0.98886443 0.98115844 0.97332543\n",
      " 0.98327547 0.99733254 0.99309848 0.99208231 0.96570412 0.98611229\n",
      " 0.98645101 0.96866797 0.89977983 0.89279363 0.87310526 0.82280464\n",
      " 0.79066813 0.88817851 0.8990177  0.89647726 0.88017614 0.8432128\n",
      " 0.78931324 0.82466763 0.80256584 0.7550597  0.79706156 0.70882378\n",
      " 0.70259971 0.67037852 0.68240325 0.67812685 0.57934499 0.66059785\n",
      " 0.70530951 0.70713015 0.69523245 0.69375053 0.72326192 0.66495893\n",
      " 0.64984334 0.65217207 0.72588704 0.7622576  0.74392413 0.75535608\n",
      " 0.77072572 0.83233127 0.82420188 0.83210898 0.82680583 0.80451351\n",
      " 0.78575663 0.78850876 0.80480989 0.8101448  0.81662291 0.82208485\n",
      " 0.83834364 0.85892116 0.8778474  0.85536455 0.88631552 0.89579981\n",
      " 0.90397155 0.92590397 0.95427217 0.96544161 0.9496147  0.9235329\n",
      " 0.91553053 0.95194343 0.96049623 0.96473029 0.97053095 0.96350241\n",
      " 0.92706597 0.91503531 0.89665544 0.87739062 0.85959035 0.84436202\n",
      " 0.83221328 0.82325637 0.81730682 0.81396347] \n",
      "(1, 100)\n"
     ]
    },
    {
     "name": "stdout",
     "output_type": "stream",
     "text": [
      "(1, 1)\n",
      "10 day output [[0.81268793]]\n",
      "(100,)\n",
      "11 day input [0.94855619 0.96142772 0.96261326 0.9667203  0.96489965 0.98086205\n",
      " 0.93191633 0.95998814 1.         0.98407994 0.97810992 0.93919892\n",
      " 0.96523838 0.98691676 0.98886443 0.98115844 0.97332543 0.98327547\n",
      " 0.99733254 0.99309848 0.99208231 0.96570412 0.98611229 0.98645101\n",
      " 0.96866797 0.89977983 0.89279363 0.87310526 0.82280464 0.79066813\n",
      " 0.88817851 0.8990177  0.89647726 0.88017614 0.8432128  0.78931324\n",
      " 0.82466763 0.80256584 0.7550597  0.79706156 0.70882378 0.70259971\n",
      " 0.67037852 0.68240325 0.67812685 0.57934499 0.66059785 0.70530951\n",
      " 0.70713015 0.69523245 0.69375053 0.72326192 0.66495893 0.64984334\n",
      " 0.65217207 0.72588704 0.7622576  0.74392413 0.75535608 0.77072572\n",
      " 0.83233127 0.82420188 0.83210898 0.82680583 0.80451351 0.78575663\n",
      " 0.78850876 0.80480989 0.8101448  0.81662291 0.82208485 0.83834364\n",
      " 0.85892116 0.8778474  0.85536455 0.88631552 0.89579981 0.90397155\n",
      " 0.92590397 0.95427217 0.96544161 0.9496147  0.9235329  0.91553053\n",
      " 0.95194343 0.96049623 0.96473029 0.97053095 0.96350241 0.92706597\n",
      " 0.91503531 0.89665544 0.87739062 0.85959035 0.84436202 0.83221328\n",
      " 0.82325637 0.81730682 0.81396347 0.81268793] \n",
      "(1, 100)\n",
      "(1, 1)\n",
      "11 day output [[0.81287545]]\n",
      "(100,)\n",
      "12 day input [0.96142772 0.96261326 0.9667203  0.96489965 0.98086205 0.93191633\n",
      " 0.95998814 1.         0.98407994 0.97810992 0.93919892 0.96523838\n",
      " 0.98691676 0.98886443 0.98115844 0.97332543 0.98327547 0.99733254\n",
      " 0.99309848 0.99208231 0.96570412 0.98611229 0.98645101 0.96866797\n",
      " 0.89977983 0.89279363 0.87310526 0.82280464 0.79066813 0.88817851\n",
      " 0.8990177  0.89647726 0.88017614 0.8432128  0.78931324 0.82466763\n",
      " 0.80256584 0.7550597  0.79706156 0.70882378 0.70259971 0.67037852\n",
      " 0.68240325 0.67812685 0.57934499 0.66059785 0.70530951 0.70713015\n",
      " 0.69523245 0.69375053 0.72326192 0.66495893 0.64984334 0.65217207\n",
      " 0.72588704 0.7622576  0.74392413 0.75535608 0.77072572 0.83233127\n",
      " 0.82420188 0.83210898 0.82680583 0.80451351 0.78575663 0.78850876\n",
      " 0.80480989 0.8101448  0.81662291 0.82208485 0.83834364 0.85892116\n",
      " 0.8778474  0.85536455 0.88631552 0.89579981 0.90397155 0.92590397\n",
      " 0.95427217 0.96544161 0.9496147  0.9235329  0.91553053 0.95194343\n",
      " 0.96049623 0.96473029 0.97053095 0.96350241 0.92706597 0.91503531\n",
      " 0.89665544 0.87739062 0.85959035 0.84436202 0.83221328 0.82325637\n",
      " 0.81730682 0.81396347 0.81268793 0.81287545] \n",
      "(1, 100)\n",
      "(1, 1)\n",
      "12 day output [[0.81391877]]\n",
      "(100,)\n",
      "13 day input [0.96261326 0.9667203  0.96489965 0.98086205 0.93191633 0.95998814\n",
      " 1.         0.98407994 0.97810992 0.93919892 0.96523838 0.98691676\n",
      " 0.98886443 0.98115844 0.97332543 0.98327547 0.99733254 0.99309848\n",
      " 0.99208231 0.96570412 0.98611229 0.98645101 0.96866797 0.89977983\n",
      " 0.89279363 0.87310526 0.82280464 0.79066813 0.88817851 0.8990177\n",
      " 0.89647726 0.88017614 0.8432128  0.78931324 0.82466763 0.80256584\n",
      " 0.7550597  0.79706156 0.70882378 0.70259971 0.67037852 0.68240325\n",
      " 0.67812685 0.57934499 0.66059785 0.70530951 0.70713015 0.69523245\n",
      " 0.69375053 0.72326192 0.66495893 0.64984334 0.65217207 0.72588704\n",
      " 0.7622576  0.74392413 0.75535608 0.77072572 0.83233127 0.82420188\n",
      " 0.83210898 0.82680583 0.80451351 0.78575663 0.78850876 0.80480989\n",
      " 0.8101448  0.81662291 0.82208485 0.83834364 0.85892116 0.8778474\n",
      " 0.85536455 0.88631552 0.89579981 0.90397155 0.92590397 0.95427217\n",
      " 0.96544161 0.9496147  0.9235329  0.91553053 0.95194343 0.96049623\n",
      " 0.96473029 0.97053095 0.96350241 0.92706597 0.91503531 0.89665544\n",
      " 0.87739062 0.85959035 0.84436202 0.83221328 0.82325637 0.81730682\n",
      " 0.81396347 0.81268793 0.81287545 0.81391877] \n",
      "(1, 100)\n",
      "(1, 1)\n",
      "13 day output [[0.8152587]]\n",
      "(100,)\n",
      "14 day input [0.9667203  0.96489965 0.98086205 0.93191633 0.95998814 1.\n",
      " 0.98407994 0.97810992 0.93919892 0.96523838 0.98691676 0.98886443\n",
      " 0.98115844 0.97332543 0.98327547 0.99733254 0.99309848 0.99208231\n",
      " 0.96570412 0.98611229 0.98645101 0.96866797 0.89977983 0.89279363\n",
      " 0.87310526 0.82280464 0.79066813 0.88817851 0.8990177  0.89647726\n",
      " 0.88017614 0.8432128  0.78931324 0.82466763 0.80256584 0.7550597\n",
      " 0.79706156 0.70882378 0.70259971 0.67037852 0.68240325 0.67812685\n",
      " 0.57934499 0.66059785 0.70530951 0.70713015 0.69523245 0.69375053\n",
      " 0.72326192 0.66495893 0.64984334 0.65217207 0.72588704 0.7622576\n",
      " 0.74392413 0.75535608 0.77072572 0.83233127 0.82420188 0.83210898\n",
      " 0.82680583 0.80451351 0.78575663 0.78850876 0.80480989 0.8101448\n",
      " 0.81662291 0.82208485 0.83834364 0.85892116 0.8778474  0.85536455\n",
      " 0.88631552 0.89579981 0.90397155 0.92590397 0.95427217 0.96544161\n",
      " 0.9496147  0.9235329  0.91553053 0.95194343 0.96049623 0.96473029\n",
      " 0.97053095 0.96350241 0.92706597 0.91503531 0.89665544 0.87739062\n",
      " 0.85959035 0.84436202 0.83221328 0.82325637 0.81730682 0.81396347\n",
      " 0.81268793 0.81287545 0.81391877 0.81525868] \n",
      "(1, 100)\n",
      "(1, 1)\n",
      "14 day output [[0.8164246]]\n",
      "(100,)\n",
      "15 day input [0.96489965 0.98086205 0.93191633 0.95998814 1.         0.98407994\n",
      " 0.97810992 0.93919892 0.96523838 0.98691676 0.98886443 0.98115844\n",
      " 0.97332543 0.98327547 0.99733254 0.99309848 0.99208231 0.96570412\n",
      " 0.98611229 0.98645101 0.96866797 0.89977983 0.89279363 0.87310526\n",
      " 0.82280464 0.79066813 0.88817851 0.8990177  0.89647726 0.88017614\n",
      " 0.8432128  0.78931324 0.82466763 0.80256584 0.7550597  0.79706156\n",
      " 0.70882378 0.70259971 0.67037852 0.68240325 0.67812685 0.57934499\n",
      " 0.66059785 0.70530951 0.70713015 0.69523245 0.69375053 0.72326192\n",
      " 0.66495893 0.64984334 0.65217207 0.72588704 0.7622576  0.74392413\n",
      " 0.75535608 0.77072572 0.83233127 0.82420188 0.83210898 0.82680583\n",
      " 0.80451351 0.78575663 0.78850876 0.80480989 0.8101448  0.81662291\n",
      " 0.82208485 0.83834364 0.85892116 0.8778474  0.85536455 0.88631552\n",
      " 0.89579981 0.90397155 0.92590397 0.95427217 0.96544161 0.9496147\n",
      " 0.9235329  0.91553053 0.95194343 0.96049623 0.96473029 0.97053095\n",
      " 0.96350241 0.92706597 0.91503531 0.89665544 0.87739062 0.85959035\n",
      " 0.84436202 0.83221328 0.82325637 0.81730682 0.81396347 0.81268793\n",
      " 0.81287545 0.81391877 0.81525868 0.81642461] \n",
      "(1, 100)\n",
      "(1, 1)\n",
      "15 day output [[0.81705916]]\n",
      "(100,)\n",
      "16 day input [0.98086205 0.93191633 0.95998814 1.         0.98407994 0.97810992\n",
      " 0.93919892 0.96523838 0.98691676 0.98886443 0.98115844 0.97332543\n",
      " 0.98327547 0.99733254 0.99309848 0.99208231 0.96570412 0.98611229\n",
      " 0.98645101 0.96866797 0.89977983 0.89279363 0.87310526 0.82280464\n",
      " 0.79066813 0.88817851 0.8990177  0.89647726 0.88017614 0.8432128\n",
      " 0.78931324 0.82466763 0.80256584 0.7550597  0.79706156 0.70882378\n",
      " 0.70259971 0.67037852 0.68240325 0.67812685 0.57934499 0.66059785\n",
      " 0.70530951 0.70713015 0.69523245 0.69375053 0.72326192 0.66495893\n",
      " 0.64984334 0.65217207 0.72588704 0.7622576  0.74392413 0.75535608\n",
      " 0.77072572 0.83233127 0.82420188 0.83210898 0.82680583 0.80451351\n",
      " 0.78575663 0.78850876 0.80480989 0.8101448  0.81662291 0.82208485\n",
      " 0.83834364 0.85892116 0.8778474  0.85536455 0.88631552 0.89579981\n",
      " 0.90397155 0.92590397 0.95427217 0.96544161 0.9496147  0.9235329\n",
      " 0.91553053 0.95194343 0.96049623 0.96473029 0.97053095 0.96350241\n",
      " 0.92706597 0.91503531 0.89665544 0.87739062 0.85959035 0.84436202\n",
      " 0.83221328 0.82325637 0.81730682 0.81396347 0.81268793 0.81287545\n",
      " 0.81391877 0.81525868 0.81642461 0.81705916] \n",
      "(1, 100)\n",
      "(1, 1)\n",
      "16 day output [[0.8169291]]\n",
      "(100,)\n",
      "17 day input [0.93191633 0.95998814 1.         0.98407994 0.97810992 0.93919892\n",
      " 0.96523838 0.98691676 0.98886443 0.98115844 0.97332543 0.98327547\n",
      " 0.99733254 0.99309848 0.99208231 0.96570412 0.98611229 0.98645101\n",
      " 0.96866797 0.89977983 0.89279363 0.87310526 0.82280464 0.79066813\n",
      " 0.88817851 0.8990177  0.89647726 0.88017614 0.8432128  0.78931324\n",
      " 0.82466763 0.80256584 0.7550597  0.79706156 0.70882378 0.70259971\n",
      " 0.67037852 0.68240325 0.67812685 0.57934499 0.66059785 0.70530951\n",
      " 0.70713015 0.69523245 0.69375053 0.72326192 0.66495893 0.64984334\n",
      " 0.65217207 0.72588704 0.7622576  0.74392413 0.75535608 0.77072572\n",
      " 0.83233127 0.82420188 0.83210898 0.82680583 0.80451351 0.78575663\n",
      " 0.78850876 0.80480989 0.8101448  0.81662291 0.82208485 0.83834364\n",
      " 0.85892116 0.8778474  0.85536455 0.88631552 0.89579981 0.90397155\n",
      " 0.92590397 0.95427217 0.96544161 0.9496147  0.9235329  0.91553053\n",
      " 0.95194343 0.96049623 0.96473029 0.97053095 0.96350241 0.92706597\n",
      " 0.91503531 0.89665544 0.87739062 0.85959035 0.84436202 0.83221328\n",
      " 0.82325637 0.81730682 0.81396347 0.81268793 0.81287545 0.81391877\n",
      " 0.81525868 0.81642461 0.81705916 0.8169291 ] \n",
      "(1, 100)\n",
      "(1, 1)\n",
      "17 day output [[0.8159251]]\n",
      "(100,)\n",
      "18 day input [0.95998814 1.         0.98407994 0.97810992 0.93919892 0.96523838\n",
      " 0.98691676 0.98886443 0.98115844 0.97332543 0.98327547 0.99733254\n",
      " 0.99309848 0.99208231 0.96570412 0.98611229 0.98645101 0.96866797\n",
      " 0.89977983 0.89279363 0.87310526 0.82280464 0.79066813 0.88817851\n",
      " 0.8990177  0.89647726 0.88017614 0.8432128  0.78931324 0.82466763\n",
      " 0.80256584 0.7550597  0.79706156 0.70882378 0.70259971 0.67037852\n",
      " 0.68240325 0.67812685 0.57934499 0.66059785 0.70530951 0.70713015\n",
      " 0.69523245 0.69375053 0.72326192 0.66495893 0.64984334 0.65217207\n",
      " 0.72588704 0.7622576  0.74392413 0.75535608 0.77072572 0.83233127\n",
      " 0.82420188 0.83210898 0.82680583 0.80451351 0.78575663 0.78850876\n",
      " 0.80480989 0.8101448  0.81662291 0.82208485 0.83834364 0.85892116\n",
      " 0.8778474  0.85536455 0.88631552 0.89579981 0.90397155 0.92590397\n",
      " 0.95427217 0.96544161 0.9496147  0.9235329  0.91553053 0.95194343\n",
      " 0.96049623 0.96473029 0.97053095 0.96350241 0.92706597 0.91503531\n",
      " 0.89665544 0.87739062 0.85959035 0.84436202 0.83221328 0.82325637\n",
      " 0.81730682 0.81396347 0.81268793 0.81287545 0.81391877 0.81525868\n",
      " 0.81642461 0.81705916 0.8169291  0.81592512] \n",
      "(1, 100)\n",
      "(1, 1)\n",
      "18 day output [[0.81404775]]\n",
      "(100,)\n",
      "19 day input [1.         0.98407994 0.97810992 0.93919892 0.96523838 0.98691676\n",
      " 0.98886443 0.98115844 0.97332543 0.98327547 0.99733254 0.99309848\n",
      " 0.99208231 0.96570412 0.98611229 0.98645101 0.96866797 0.89977983\n",
      " 0.89279363 0.87310526 0.82280464 0.79066813 0.88817851 0.8990177\n",
      " 0.89647726 0.88017614 0.8432128  0.78931324 0.82466763 0.80256584\n",
      " 0.7550597  0.79706156 0.70882378 0.70259971 0.67037852 0.68240325\n",
      " 0.67812685 0.57934499 0.66059785 0.70530951 0.70713015 0.69523245\n",
      " 0.69375053 0.72326192 0.66495893 0.64984334 0.65217207 0.72588704\n",
      " 0.7622576  0.74392413 0.75535608 0.77072572 0.83233127 0.82420188\n",
      " 0.83210898 0.82680583 0.80451351 0.78575663 0.78850876 0.80480989\n",
      " 0.8101448  0.81662291 0.82208485 0.83834364 0.85892116 0.8778474\n",
      " 0.85536455 0.88631552 0.89579981 0.90397155 0.92590397 0.95427217\n",
      " 0.96544161 0.9496147  0.9235329  0.91553053 0.95194343 0.96049623\n",
      " 0.96473029 0.97053095 0.96350241 0.92706597 0.91503531 0.89665544\n",
      " 0.87739062 0.85959035 0.84436202 0.83221328 0.82325637 0.81730682\n",
      " 0.81396347 0.81268793 0.81287545 0.81391877 0.81525868 0.81642461\n",
      " 0.81705916 0.8169291  0.81592512 0.81404775] \n",
      "(1, 100)\n",
      "(1, 1)\n",
      "19 day output [[0.8113865]]\n",
      "(100,)\n",
      "20 day input [0.98407994 0.97810992 0.93919892 0.96523838 0.98691676 0.98886443\n",
      " 0.98115844 0.97332543 0.98327547 0.99733254 0.99309848 0.99208231\n",
      " 0.96570412 0.98611229 0.98645101 0.96866797 0.89977983 0.89279363\n",
      " 0.87310526 0.82280464 0.79066813 0.88817851 0.8990177  0.89647726\n",
      " 0.88017614 0.8432128  0.78931324 0.82466763 0.80256584 0.7550597\n",
      " 0.79706156 0.70882378 0.70259971 0.67037852 0.68240325 0.67812685\n",
      " 0.57934499 0.66059785 0.70530951 0.70713015 0.69523245 0.69375053\n",
      " 0.72326192 0.66495893 0.64984334 0.65217207 0.72588704 0.7622576\n",
      " 0.74392413 0.75535608 0.77072572 0.83233127 0.82420188 0.83210898\n",
      " 0.82680583 0.80451351 0.78575663 0.78850876 0.80480989 0.8101448\n",
      " 0.81662291 0.82208485 0.83834364 0.85892116 0.8778474  0.85536455\n",
      " 0.88631552 0.89579981 0.90397155 0.92590397 0.95427217 0.96544161\n",
      " 0.9496147  0.9235329  0.91553053 0.95194343 0.96049623 0.96473029\n",
      " 0.97053095 0.96350241 0.92706597 0.91503531 0.89665544 0.87739062\n",
      " 0.85959035 0.84436202 0.83221328 0.82325637 0.81730682 0.81396347\n",
      " 0.81268793 0.81287545 0.81391877 0.81525868 0.81642461 0.81705916\n",
      " 0.8169291  0.81592512 0.81404775 0.81138653] \n",
      "(1, 100)\n"
     ]
    },
    {
     "name": "stdout",
     "output_type": "stream",
     "text": [
      "(1, 1)\n",
      "20 day output [[0.8080938]]\n",
      "(100,)\n",
      "21 day input [0.97810992 0.93919892 0.96523838 0.98691676 0.98886443 0.98115844\n",
      " 0.97332543 0.98327547 0.99733254 0.99309848 0.99208231 0.96570412\n",
      " 0.98611229 0.98645101 0.96866797 0.89977983 0.89279363 0.87310526\n",
      " 0.82280464 0.79066813 0.88817851 0.8990177  0.89647726 0.88017614\n",
      " 0.8432128  0.78931324 0.82466763 0.80256584 0.7550597  0.79706156\n",
      " 0.70882378 0.70259971 0.67037852 0.68240325 0.67812685 0.57934499\n",
      " 0.66059785 0.70530951 0.70713015 0.69523245 0.69375053 0.72326192\n",
      " 0.66495893 0.64984334 0.65217207 0.72588704 0.7622576  0.74392413\n",
      " 0.75535608 0.77072572 0.83233127 0.82420188 0.83210898 0.82680583\n",
      " 0.80451351 0.78575663 0.78850876 0.80480989 0.8101448  0.81662291\n",
      " 0.82208485 0.83834364 0.85892116 0.8778474  0.85536455 0.88631552\n",
      " 0.89579981 0.90397155 0.92590397 0.95427217 0.96544161 0.9496147\n",
      " 0.9235329  0.91553053 0.95194343 0.96049623 0.96473029 0.97053095\n",
      " 0.96350241 0.92706597 0.91503531 0.89665544 0.87739062 0.85959035\n",
      " 0.84436202 0.83221328 0.82325637 0.81730682 0.81396347 0.81268793\n",
      " 0.81287545 0.81391877 0.81525868 0.81642461 0.81705916 0.8169291\n",
      " 0.81592512 0.81404775 0.81138653 0.80809379] \n",
      "(1, 100)\n",
      "(1, 1)\n",
      "21 day output [[0.804357]]\n",
      "(100,)\n",
      "22 day input [0.93919892 0.96523838 0.98691676 0.98886443 0.98115844 0.97332543\n",
      " 0.98327547 0.99733254 0.99309848 0.99208231 0.96570412 0.98611229\n",
      " 0.98645101 0.96866797 0.89977983 0.89279363 0.87310526 0.82280464\n",
      " 0.79066813 0.88817851 0.8990177  0.89647726 0.88017614 0.8432128\n",
      " 0.78931324 0.82466763 0.80256584 0.7550597  0.79706156 0.70882378\n",
      " 0.70259971 0.67037852 0.68240325 0.67812685 0.57934499 0.66059785\n",
      " 0.70530951 0.70713015 0.69523245 0.69375053 0.72326192 0.66495893\n",
      " 0.64984334 0.65217207 0.72588704 0.7622576  0.74392413 0.75535608\n",
      " 0.77072572 0.83233127 0.82420188 0.83210898 0.82680583 0.80451351\n",
      " 0.78575663 0.78850876 0.80480989 0.8101448  0.81662291 0.82208485\n",
      " 0.83834364 0.85892116 0.8778474  0.85536455 0.88631552 0.89579981\n",
      " 0.90397155 0.92590397 0.95427217 0.96544161 0.9496147  0.9235329\n",
      " 0.91553053 0.95194343 0.96049623 0.96473029 0.97053095 0.96350241\n",
      " 0.92706597 0.91503531 0.89665544 0.87739062 0.85959035 0.84436202\n",
      " 0.83221328 0.82325637 0.81730682 0.81396347 0.81268793 0.81287545\n",
      " 0.81391877 0.81525868 0.81642461 0.81705916 0.8169291  0.81592512\n",
      " 0.81404775 0.81138653 0.80809379 0.80435699] \n",
      "(1, 100)\n",
      "(1, 1)\n",
      "22 day output [[0.8003728]]\n",
      "(100,)\n",
      "23 day input [0.96523838 0.98691676 0.98886443 0.98115844 0.97332543 0.98327547\n",
      " 0.99733254 0.99309848 0.99208231 0.96570412 0.98611229 0.98645101\n",
      " 0.96866797 0.89977983 0.89279363 0.87310526 0.82280464 0.79066813\n",
      " 0.88817851 0.8990177  0.89647726 0.88017614 0.8432128  0.78931324\n",
      " 0.82466763 0.80256584 0.7550597  0.79706156 0.70882378 0.70259971\n",
      " 0.67037852 0.68240325 0.67812685 0.57934499 0.66059785 0.70530951\n",
      " 0.70713015 0.69523245 0.69375053 0.72326192 0.66495893 0.64984334\n",
      " 0.65217207 0.72588704 0.7622576  0.74392413 0.75535608 0.77072572\n",
      " 0.83233127 0.82420188 0.83210898 0.82680583 0.80451351 0.78575663\n",
      " 0.78850876 0.80480989 0.8101448  0.81662291 0.82208485 0.83834364\n",
      " 0.85892116 0.8778474  0.85536455 0.88631552 0.89579981 0.90397155\n",
      " 0.92590397 0.95427217 0.96544161 0.9496147  0.9235329  0.91553053\n",
      " 0.95194343 0.96049623 0.96473029 0.97053095 0.96350241 0.92706597\n",
      " 0.91503531 0.89665544 0.87739062 0.85959035 0.84436202 0.83221328\n",
      " 0.82325637 0.81730682 0.81396347 0.81268793 0.81287545 0.81391877\n",
      " 0.81525868 0.81642461 0.81705916 0.8169291  0.81592512 0.81404775\n",
      " 0.81138653 0.80809379 0.80435699 0.80037278] \n",
      "(1, 100)\n",
      "(1, 1)\n",
      "23 day output [[0.79632646]]\n",
      "(100,)\n",
      "24 day input [0.98691676 0.98886443 0.98115844 0.97332543 0.98327547 0.99733254\n",
      " 0.99309848 0.99208231 0.96570412 0.98611229 0.98645101 0.96866797\n",
      " 0.89977983 0.89279363 0.87310526 0.82280464 0.79066813 0.88817851\n",
      " 0.8990177  0.89647726 0.88017614 0.8432128  0.78931324 0.82466763\n",
      " 0.80256584 0.7550597  0.79706156 0.70882378 0.70259971 0.67037852\n",
      " 0.68240325 0.67812685 0.57934499 0.66059785 0.70530951 0.70713015\n",
      " 0.69523245 0.69375053 0.72326192 0.66495893 0.64984334 0.65217207\n",
      " 0.72588704 0.7622576  0.74392413 0.75535608 0.77072572 0.83233127\n",
      " 0.82420188 0.83210898 0.82680583 0.80451351 0.78575663 0.78850876\n",
      " 0.80480989 0.8101448  0.81662291 0.82208485 0.83834364 0.85892116\n",
      " 0.8778474  0.85536455 0.88631552 0.89579981 0.90397155 0.92590397\n",
      " 0.95427217 0.96544161 0.9496147  0.9235329  0.91553053 0.95194343\n",
      " 0.96049623 0.96473029 0.97053095 0.96350241 0.92706597 0.91503531\n",
      " 0.89665544 0.87739062 0.85959035 0.84436202 0.83221328 0.82325637\n",
      " 0.81730682 0.81396347 0.81268793 0.81287545 0.81391877 0.81525868\n",
      " 0.81642461 0.81705916 0.8169291  0.81592512 0.81404775 0.81138653\n",
      " 0.80809379 0.80435699 0.80037278 0.79632646] \n",
      "(1, 100)\n",
      "(1, 1)\n",
      "24 day output [[0.7923738]]\n",
      "(100,)\n",
      "25 day input [0.98886443 0.98115844 0.97332543 0.98327547 0.99733254 0.99309848\n",
      " 0.99208231 0.96570412 0.98611229 0.98645101 0.96866797 0.89977983\n",
      " 0.89279363 0.87310526 0.82280464 0.79066813 0.88817851 0.8990177\n",
      " 0.89647726 0.88017614 0.8432128  0.78931324 0.82466763 0.80256584\n",
      " 0.7550597  0.79706156 0.70882378 0.70259971 0.67037852 0.68240325\n",
      " 0.67812685 0.57934499 0.66059785 0.70530951 0.70713015 0.69523245\n",
      " 0.69375053 0.72326192 0.66495893 0.64984334 0.65217207 0.72588704\n",
      " 0.7622576  0.74392413 0.75535608 0.77072572 0.83233127 0.82420188\n",
      " 0.83210898 0.82680583 0.80451351 0.78575663 0.78850876 0.80480989\n",
      " 0.8101448  0.81662291 0.82208485 0.83834364 0.85892116 0.8778474\n",
      " 0.85536455 0.88631552 0.89579981 0.90397155 0.92590397 0.95427217\n",
      " 0.96544161 0.9496147  0.9235329  0.91553053 0.95194343 0.96049623\n",
      " 0.96473029 0.97053095 0.96350241 0.92706597 0.91503531 0.89665544\n",
      " 0.87739062 0.85959035 0.84436202 0.83221328 0.82325637 0.81730682\n",
      " 0.81396347 0.81268793 0.81287545 0.81391877 0.81525868 0.81642461\n",
      " 0.81705916 0.8169291  0.81592512 0.81404775 0.81138653 0.80809379\n",
      " 0.80435699 0.80037278 0.79632646 0.79237378] \n",
      "(1, 100)\n",
      "(1, 1)\n",
      "25 day output [[0.78863317]]\n",
      "(100,)\n",
      "26 day input [0.98115844 0.97332543 0.98327547 0.99733254 0.99309848 0.99208231\n",
      " 0.96570412 0.98611229 0.98645101 0.96866797 0.89977983 0.89279363\n",
      " 0.87310526 0.82280464 0.79066813 0.88817851 0.8990177  0.89647726\n",
      " 0.88017614 0.8432128  0.78931324 0.82466763 0.80256584 0.7550597\n",
      " 0.79706156 0.70882378 0.70259971 0.67037852 0.68240325 0.67812685\n",
      " 0.57934499 0.66059785 0.70530951 0.70713015 0.69523245 0.69375053\n",
      " 0.72326192 0.66495893 0.64984334 0.65217207 0.72588704 0.7622576\n",
      " 0.74392413 0.75535608 0.77072572 0.83233127 0.82420188 0.83210898\n",
      " 0.82680583 0.80451351 0.78575663 0.78850876 0.80480989 0.8101448\n",
      " 0.81662291 0.82208485 0.83834364 0.85892116 0.8778474  0.85536455\n",
      " 0.88631552 0.89579981 0.90397155 0.92590397 0.95427217 0.96544161\n",
      " 0.9496147  0.9235329  0.91553053 0.95194343 0.96049623 0.96473029\n",
      " 0.97053095 0.96350241 0.92706597 0.91503531 0.89665544 0.87739062\n",
      " 0.85959035 0.84436202 0.83221328 0.82325637 0.81730682 0.81396347\n",
      " 0.81268793 0.81287545 0.81391877 0.81525868 0.81642461 0.81705916\n",
      " 0.8169291  0.81592512 0.81404775 0.81138653 0.80809379 0.80435699\n",
      " 0.80037278 0.79632646 0.79237378 0.78863317] \n",
      "(1, 100)\n",
      "(1, 1)\n",
      "26 day output [[0.78518015]]\n",
      "(100,)\n",
      "27 day input [0.97332543 0.98327547 0.99733254 0.99309848 0.99208231 0.96570412\n",
      " 0.98611229 0.98645101 0.96866797 0.89977983 0.89279363 0.87310526\n",
      " 0.82280464 0.79066813 0.88817851 0.8990177  0.89647726 0.88017614\n",
      " 0.8432128  0.78931324 0.82466763 0.80256584 0.7550597  0.79706156\n",
      " 0.70882378 0.70259971 0.67037852 0.68240325 0.67812685 0.57934499\n",
      " 0.66059785 0.70530951 0.70713015 0.69523245 0.69375053 0.72326192\n",
      " 0.66495893 0.64984334 0.65217207 0.72588704 0.7622576  0.74392413\n",
      " 0.75535608 0.77072572 0.83233127 0.82420188 0.83210898 0.82680583\n",
      " 0.80451351 0.78575663 0.78850876 0.80480989 0.8101448  0.81662291\n",
      " 0.82208485 0.83834364 0.85892116 0.8778474  0.85536455 0.88631552\n",
      " 0.89579981 0.90397155 0.92590397 0.95427217 0.96544161 0.9496147\n",
      " 0.9235329  0.91553053 0.95194343 0.96049623 0.96473029 0.97053095\n",
      " 0.96350241 0.92706597 0.91503531 0.89665544 0.87739062 0.85959035\n",
      " 0.84436202 0.83221328 0.82325637 0.81730682 0.81396347 0.81268793\n",
      " 0.81287545 0.81391877 0.81525868 0.81642461 0.81705916 0.8169291\n",
      " 0.81592512 0.81404775 0.81138653 0.80809379 0.80435699 0.80037278\n",
      " 0.79632646 0.79237378 0.78863317 0.78518015] \n",
      "(1, 100)\n",
      "(1, 1)\n",
      "27 day output [[0.782049]]\n",
      "(100,)\n",
      "28 day input [0.98327547 0.99733254 0.99309848 0.99208231 0.96570412 0.98611229\n",
      " 0.98645101 0.96866797 0.89977983 0.89279363 0.87310526 0.82280464\n",
      " 0.79066813 0.88817851 0.8990177  0.89647726 0.88017614 0.8432128\n",
      " 0.78931324 0.82466763 0.80256584 0.7550597  0.79706156 0.70882378\n",
      " 0.70259971 0.67037852 0.68240325 0.67812685 0.57934499 0.66059785\n",
      " 0.70530951 0.70713015 0.69523245 0.69375053 0.72326192 0.66495893\n",
      " 0.64984334 0.65217207 0.72588704 0.7622576  0.74392413 0.75535608\n",
      " 0.77072572 0.83233127 0.82420188 0.83210898 0.82680583 0.80451351\n",
      " 0.78575663 0.78850876 0.80480989 0.8101448  0.81662291 0.82208485\n",
      " 0.83834364 0.85892116 0.8778474  0.85536455 0.88631552 0.89579981\n",
      " 0.90397155 0.92590397 0.95427217 0.96544161 0.9496147  0.9235329\n",
      " 0.91553053 0.95194343 0.96049623 0.96473029 0.97053095 0.96350241\n",
      " 0.92706597 0.91503531 0.89665544 0.87739062 0.85959035 0.84436202\n",
      " 0.83221328 0.82325637 0.81730682 0.81396347 0.81268793 0.81287545\n",
      " 0.81391877 0.81525868 0.81642461 0.81705916 0.8169291  0.81592512\n",
      " 0.81404775 0.81138653 0.80809379 0.80435699 0.80037278 0.79632646\n",
      " 0.79237378 0.78863317 0.78518015 0.782049  ] \n",
      "(1, 100)\n",
      "(1, 1)\n",
      "28 day output [[0.7792377]]\n",
      "(100,)\n",
      "29 day input [0.99733254 0.99309848 0.99208231 0.96570412 0.98611229 0.98645101\n",
      " 0.96866797 0.89977983 0.89279363 0.87310526 0.82280464 0.79066813\n",
      " 0.88817851 0.8990177  0.89647726 0.88017614 0.8432128  0.78931324\n",
      " 0.82466763 0.80256584 0.7550597  0.79706156 0.70882378 0.70259971\n",
      " 0.67037852 0.68240325 0.67812685 0.57934499 0.66059785 0.70530951\n",
      " 0.70713015 0.69523245 0.69375053 0.72326192 0.66495893 0.64984334\n",
      " 0.65217207 0.72588704 0.7622576  0.74392413 0.75535608 0.77072572\n",
      " 0.83233127 0.82420188 0.83210898 0.82680583 0.80451351 0.78575663\n",
      " 0.78850876 0.80480989 0.8101448  0.81662291 0.82208485 0.83834364\n",
      " 0.85892116 0.8778474  0.85536455 0.88631552 0.89579981 0.90397155\n",
      " 0.92590397 0.95427217 0.96544161 0.9496147  0.9235329  0.91553053\n",
      " 0.95194343 0.96049623 0.96473029 0.97053095 0.96350241 0.92706597\n",
      " 0.91503531 0.89665544 0.87739062 0.85959035 0.84436202 0.83221328\n",
      " 0.82325637 0.81730682 0.81396347 0.81268793 0.81287545 0.81391877\n",
      " 0.81525868 0.81642461 0.81705916 0.8169291  0.81592512 0.81404775\n",
      " 0.81138653 0.80809379 0.80435699 0.80037278 0.79632646 0.79237378\n",
      " 0.78863317 0.78518015 0.782049   0.77923769] \n",
      "(1, 100)\n",
      "(1, 1)\n",
      "29 day output [[0.7767136]]\n",
      "[[0.9270659685134888], [0.9150353074073792], [0.8966554403305054], [0.8773906230926514], [0.8595903515815735], [0.8443620204925537], [0.832213282585144], [0.8232563734054565], [0.8173068165779114], [0.8139634728431702], [0.8126879334449768], [0.8128754496574402], [0.8139187693595886], [0.8152586817741394], [0.8164246082305908], [0.8170591592788696], [0.8169291019439697], [0.815925121307373], [0.8140477538108826], [0.8113865256309509], [0.808093786239624], [0.8043569922447205], [0.8003727793693542], [0.7963264584541321], [0.792373776435852], [0.7886331677436829], [0.7851801514625549], [0.7820490002632141], [0.779237687587738], [0.7767136096954346]]\n"
     ]
    }
   ],
   "source": [
    "# demonstrate prediction for next 10 days\n",
    "from numpy import array\n",
    "\n",
    "lst_output=[]\n",
    "n_steps=100\n",
    "i=0\n",
    "while(i<30):\n",
    "    if(len(temp_input)>100):\n",
    "#         print(temp_input)\n",
    "\n",
    "        x_input=np.array(temp_input[1:])\n",
    "        print(x_input.shape)\n",
    "        print(\"{} day input {} \".format(i,x_input))\n",
    "        x_input=x_input.reshape(1,-1)\n",
    "        print(x_input.shape)\n",
    "        x_input = x_input.reshape((1, n_steps, 1))\n",
    "        #print(x_input)\n",
    "        yhat = model.predict(x_input, verbose=0)\n",
    "        print(yhat.shape)\n",
    "        print(\"{} day output {}\".format(i,yhat))\n",
    "        temp_input.extend(yhat[0].tolist())\n",
    "        temp_input=temp_input[1:]\n",
    "        #print(temp_input)\n",
    "        lst_output.extend(yhat.tolist())\n",
    "        i=i+1\n",
    "    else:\n",
    "        x_input = x_input.reshape((1, n_steps,1))\n",
    "        yhat = model.predict(x_input, verbose=0)\n",
    "        print(yhat[0])\n",
    "        temp_input.extend(yhat[0].tolist())\n",
    "        print(len(temp_input))\n",
    "        lst_output.extend(yhat.tolist())\n",
    "        i=i+1\n",
    "    \n",
    "\n",
    "print(lst_output)"
   ]
  },
  {
   "cell_type": "code",
   "execution_count": 36,
   "id": "d9114071",
   "metadata": {},
   "outputs": [],
   "source": [
    "day_new=np.arange(1,101)\n",
    "day_pred=np.arange(101,131)"
   ]
  },
  {
   "cell_type": "code",
   "execution_count": 37,
   "id": "4c2e847e",
   "metadata": {},
   "outputs": [],
   "source": [
    "import matplotlib.pyplot as plt"
   ]
  },
  {
   "cell_type": "code",
   "execution_count": 38,
   "id": "86945386",
   "metadata": {},
   "outputs": [
    {
     "data": {
      "text/plain": [
       "1258"
      ]
     },
     "execution_count": 38,
     "metadata": {},
     "output_type": "execute_result"
    }
   ],
   "source": [
    "len(df1)"
   ]
  },
  {
   "cell_type": "code",
   "execution_count": 39,
   "id": "deff7c15",
   "metadata": {},
   "outputs": [
    {
     "data": {
      "text/plain": [
       "[<matplotlib.lines.Line2D at 0x24b6b01f4f0>]"
      ]
     },
     "execution_count": 39,
     "metadata": {},
     "output_type": "execute_result"
    },
    {
     "data": {
      "image/png": "[encoded data removed]",
      "text/plain": [
       "<Figure size 432x288 with 1 Axes>"
      ]
     },
     "metadata": {
      "needs_background": "light"
     },
     "output_type": "display_data"
    }
   ],
   "source": [
    "plt.plot(day_new,scaler.inverse_transform(df1[1158:]))\n",
    "plt.plot(day_pred,scaler.inverse_transform(lst_output))"
   ]
  },
  {
   "cell_type": "code",
   "execution_count": 40,
   "id": "18fa17c0",
   "metadata": {},
   "outputs": [
    {
     "data": {
      "text/plain": [
       "[<matplotlib.lines.Line2D at 0x24b6b030880>]"
      ]
     },
     "execution_count": 40,
     "metadata": {},
     "output_type": "execute_result"
    },
    {
     "data": {
      "image/png": "[encoded data removed]",
      "text/plain": [
       "<Figure size 432x288 with 1 Axes>"
      ]
     },
     "metadata": {
      "needs_background": "light"
     },
     "output_type": "display_data"
    }
   ],
   "source": [
    "df3=df1.tolist()\n",
    "df3.extend(lst_output)\n",
    "plt.plot(df3[1200:])"
   ]
  },
  {
   "cell_type": "code",
   "execution_count": 41,
   "id": "bf11f77a",
   "metadata": {},
   "outputs": [],
   "source": [
    "df3=scaler.inverse_transform(df3).tolist()"
   ]
  },
  {
   "cell_type": "code",
   "execution_count": 42,
   "id": "024c5294",
   "metadata": {},
   "outputs": [
    {
     "data": {
      "text/plain": [
       "[<matplotlib.lines.Line2D at 0x24b6c153ee0>]"
      ]
     },
     "execution_count": 42,
     "metadata": {},
     "output_type": "execute_result"
    },
    {
     "data": {
      "image/png": "[encoded data removed]",
      "text/plain": [
       "<Figure size 432x288 with 1 Axes>"
      ]
     },
     "metadata": {
      "needs_background": "light"
     },
     "output_type": "display_data"
    }
   ],
   "source": [
    "plt.plot(df3)"
   ]
  },
  {
   "cell_type": "code",
   "execution_count": null,
   "id": "67ccfe2f",
   "metadata": {},
   "outputs": [],
   "source": []
  }
 ],
 "metadata": {
  "kernelspec": {
   "display_name": "Python 3 (ipykernel)",
   "language": "python",
   "name": "python3"
  },
  "language_info": {
   "codemirror_mode": {
    "name": "ipython",
    "version": 3
   },
   "file_extension": ".py",
   "mimetype": "text/x-python",
   "name": "python",
   "nbconvert_exporter": "python",
   "pygments_lexer": "ipython3",
   "version": "3.9.7"
  }
 },
 "nbformat": 4,
 "nbformat_minor": 5
}
